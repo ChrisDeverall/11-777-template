{
 "cells": [
  {
   "cell_type": "code",
   "execution_count": null,
   "metadata": {},
   "outputs": [],
   "source": [
    "# action space analysis starts halfway through the notebook"
   ]
  },
  {
   "cell_type": "code",
   "execution_count": 1,
   "metadata": {},
   "outputs": [],
   "source": [
    "import os\n",
    "import glob\n",
    "import json\n",
    "import collections\n",
    "import numpy as np\n",
    "import pandas as pd\n",
    "\n",
    "'''\n",
    " Please modify the split names and main_folder for the dataset if necessary. \n",
    " I assume the structure of data folder to be\n",
    " \n",
    " main_folder/split_names/task_name/trial_name/traj_data.json\n",
    "'''\n",
    "\n",
    "split_names = [\"train\", \"valid_seen\", \"valid_unseen\"]\n",
    "main_folder = \"json_2.1.0\""
   ]
  },
  {
   "cell_type": "code",
   "execution_count": 2,
   "metadata": {},
   "outputs": [],
   "source": [
    "'''\n",
    "read_file and load json\n",
    "'''\n",
    "def get_filepath_dict(output_as_txt=False): # indicate whether to output the paths as txt files\n",
    "    '''\n",
    "    generate a dict that maps split names to a list that contains all related json files\n",
    "    return {split_name:[list_of_filepaths]}\n",
    "    '''\n",
    "    filename_dict = {}\n",
    "    for split_name in split_names:\n",
    "        folder_path = os.path.join(main_folder, split_name)\n",
    "        if os.path.isdir(folder_path):\n",
    "            file_paths = list(glob.glob(folder_path + '/*/*/*.json'))\n",
    "            file_paths.sort()\n",
    "        filename_dict[split_name] = file_paths\n",
    "        if output_as_txt:\n",
    "            with open(split_name+\"_filepaths.txt\", \"w\") as f:\n",
    "                for file_path in file_paths:\n",
    "                    f.write(file_path + \"\\n\")\n",
    "    return filename_dict # return dict with keys to be split names and values to be lists of filepaths\n",
    "\n",
    "def read_filepath_from_txt(txt_path): # read file paths from a txt\n",
    "    '''\n",
    "    read filepaths as a list\n",
    "    return [list_of_filepaths]\n",
    "    '''\n",
    "    filename_list = []\n",
    "    with open(txt_path, \"r\") as f:\n",
    "        filename_list = list(f.readlines())\n",
    "    filename_list = [line.strip() for line in filename_list]\n",
    "    return filename_list # return a list of filenames\n",
    "\n",
    "def load_json(file_path): # load one json\n",
    "    with open(file_path, \"r\") as f:\n",
    "        traj_dict = json.load(f)\n",
    "    return traj_dict # return the dict\n",
    "\n",
    "def load_json_all(file_path_list): # load all json given a list of file paths\n",
    "    info_all = []\n",
    "    for file_path in file_path_list:\n",
    "        traj_dict = load_json(file_path)\n",
    "        info_all.append(traj_dict)\n",
    "    return info_all # a list of dict read by json"
   ]
  },
  {
   "cell_type": "code",
   "execution_count": 3,
   "metadata": {},
   "outputs": [],
   "source": [
    "\n",
    "'''\n",
    "get basic information from the dict\n",
    "'''\n",
    "\n",
    "def get_low_level_actions(traj_dict, non_repeat=True):\n",
    "    '''\n",
    "    load an low_level action sequence from the dict given by json file\n",
    "    return [list_of_actions], [whether_object_involved], [repeat numbers]\n",
    "    \n",
    "    by setting remove repeat to true, \n",
    "    we consider the single action performed continuously to be a one action, e.g.\n",
    "    w/o remove repeat: [a0, a1, a1, a2, a3, a3, a3, a4]\n",
    "    w/ remove repeat: [a0, a1, a2, a3, a4]\n",
    "    \n",
    "    '''\n",
    "    action_dict_sequence = traj_dict['plan']['low_actions']\n",
    "    action_sequence_raw = [action_dict['api_action']['action'] for action_dict in action_dict_sequence]\n",
    "    object_involved_raw = [action_dict['discrete_action']['args']!={} for action_dict in action_dict_sequence]\n",
    "    if not non_repeat:\n",
    "        return action_sequence_raw, object_involved_raw, [1] * len(action_dict_sequence)\n",
    "    \n",
    "    action_squence_nonrepeat = []\n",
    "    object_involved_nonrepeat = []\n",
    "    action_repeat_number = []\n",
    "    current_action = \"\"\n",
    "    for action, object_involved in zip(action_sequence_raw, object_involved_raw):\n",
    "        if action != current_action:\n",
    "            action_squence_nonrepeat.append(action)\n",
    "            object_involved_nonrepeat.append(object_involved)\n",
    "            current_action = action\n",
    "            action_repeat_number.append(1)\n",
    "        else:\n",
    "            action_repeat_number[-1] += 1\n",
    "    return action_squence_nonrepeat, object_involved_nonrepeat, action_repeat_number\n",
    "\n",
    "def get_high_level_actions(traj_dict):\n",
    "    '''\n",
    "    load an low_level action sequence from the dict given by json file\n",
    "    return [a1, a2, a3, a4]\n",
    "    \n",
    "    '''\n",
    "    action_dict_sequence = traj_dict['plan']['high_pddl']\n",
    "    action_sequence = [action_dict['discrete_action']['action'] for action_dict in action_dict_sequence]\n",
    "    return action_sequence\n",
    "\n",
    "def get_all_objects(traj_dict, non_repeat=False):\n",
    "    '''\n",
    "    load the list of objects in the scene (not necessarily acted on)\n",
    "    return [list_of_object_names]\n",
    "    '''\n",
    "    object_dict_list = traj_dict['scene']['object_poses']\n",
    "    object_list_raw = [object_dict['objectName'].split(\"_\")[0] for object_dict in object_dict_list]\n",
    "    if not non_repeat:\n",
    "        return object_list_raw\n",
    "    object_list_nonrepeat = list(set(object_list_raw))\n",
    "    return object_list_nonrepeat\n",
    "\n",
    "def get_instructions(traj_dict):\n",
    "    '''\n",
    "    load the instructions\n",
    "    return [list_of_instruction_sequences(list)], [list_of_task_description]\n",
    "    '''\n",
    "    ins_dict_list = traj_dict[\"turk_annotations\"]['anns']\n",
    "    high_descs = [ins_dict['high_descs'] for ins_dict in ins_dict_list]\n",
    "    task_descs = [ins_dict['task_desc'] for ins_dict in ins_dict_list]\n",
    "    return high_descs, task_descs\n",
    "\n",
    "def get_task_type(traj_dict):\n",
    "    return traj_dict['task_type']\n",
    "\n",
    "def get_object_acted_on(traj_dict):\n",
    "    '''\n",
    "    convert a dict read from json to object acted on\n",
    "    return [list_of_objects]\n",
    "\n",
    "    '''\n",
    "    action_dict_sequence = traj_dict['plan']['low_actions']\n",
    "    object_list = [action_dict['api_action']['objectId'].split(\"|\")[0] for action_dict in action_dict_sequence if action_dict['discrete_action']['args']!={}]\n",
    "    return object_list\n",
    "\n",
    "def get_object_and_bbox(traj_dict):\n",
    "    '''\n",
    "    convert a dict read from json to object acted on and corresponding bounding boxes\n",
    "    return [(o1, bb1), (o2, bb2)]\n",
    "    '''\n",
    "    action_dict_sequence = traj_dict['plan']['low_actions']\n",
    "    object_bb_list = [ (action_dict['api_action']['objectId'].split(\"|\")[0],\n",
    "                        action_dict['discrete_action']['args']['bbox']) \n",
    "                      for action_dict in action_dict_sequence if action_dict['discrete_action']['args']!={}]\n",
    "    return object_bb_list"
   ]
  },
  {
   "cell_type": "code",
   "execution_count": 4,
   "metadata": {},
   "outputs": [],
   "source": [
    "'''\n",
    "get length, action/instruction\n",
    "'''\n",
    "\n",
    "def get_instruction_length(traj_dict):\n",
    "    '''\n",
    "    get the average number of instructions for each trial\n",
    "    return float(average_number_of_length)\n",
    "    '''\n",
    "    ins_lists = get_instructions(traj_dict)[0]\n",
    "    return sum([len(ins_list) for ins_list in ins_lists])/len(ins_lists)\n",
    "\n",
    "def get_action_seq_length(traj_dict, low_level=True, unique = True):\n",
    "    '''\n",
    "    get the length of action for each trial\n",
    "    return float(length_of_action_sqeuence)\n",
    "    '''\n",
    "    if low_level:\n",
    "        action_lists = get_low_level_actions(traj_dict, unique)[0]\n",
    "    else:\n",
    "        action_lists = get_high_level_actions(traj_dict)\n",
    "    return len(action_lists)\n",
    "    \n",
    "def get_instruction_to_action_ratio(traj_dict, low_level=True, unique=True):\n",
    "    return get_instruction_length(traj_dict)/get_action_seq_length(traj_dict,low_level, unique = True)"
   ]
  },
  {
   "cell_type": "code",
   "execution_count": 5,
   "metadata": {},
   "outputs": [],
   "source": [
    "'''\n",
    "construct pairs, which might be used in calculating relationship\n",
    "'''\n",
    "\n",
    "def get_action_object_pairs(traj_dict):\n",
    "    '''\n",
    "    convert a dict read from json to a series of action-object pairs (an action and the object acted on)\n",
    "    return [(a1, o1), (a1, o2)]\n",
    "    '''\n",
    "    action_dict_sequence = traj_dict['plan']['low_actions']\n",
    "    action_object_pairs = [ (action_dict['api_action']['action'], action_dict['api_action']['objectId'].split(\"|\")[0]) \n",
    "                           for action_dict in action_dict_sequence if action_dict['discrete_action']['args']!={}]\n",
    "    return action_object_pairs\n",
    "\n",
    "def get_action_action_pairs(traj_dict, low_level=True, unique=True):\n",
    "    '''\n",
    "    convert a dict read from json to a series of action-acton pairs (an action and the following action)\n",
    "    return [(a1, a2), (a1, a3), (a2, a3)]\n",
    "    '''\n",
    "    if low_level:\n",
    "        action_lists = get_low_level_actions(traj_dict, unique)[0]\n",
    "    else:\n",
    "        action_lists = get_high_level_actions(traj_dict)\n",
    "    action_action_pairs = [(action_lists[i], action_lists[i+1]) for i in range(len(action_lists)) if i < (len(action_lists)-1)]\n",
    "    return action_action_pairs\n",
    "\n",
    "def get_task_action_pairs(traj_dict, low_level=True, unique=True):\n",
    "    '''\n",
    "    convert a dict read from json to task-acton pairs\n",
    "    return [(t1, a2), (t1, a3), (t2, a1)]\n",
    "    '''\n",
    "    task_type = get_task_type(traj_dict)\n",
    "    if low_level:\n",
    "        action_lists = get_low_level_actions(traj_dict, unique)[0]\n",
    "    else:\n",
    "        action_lists = get_high_level_actions(traj_dict)\n",
    "    return [(task_type, action) for action in action_lists]\n",
    "\n",
    "def get_attempts_action_pairs(traj_dict, low_level=True, unique=True):\n",
    "    '''\n",
    "    convert a dict read from json to attempt-acton pairs\n",
    "    return [(t1, a2), (t1, a3), (t2, a1)]\n",
    "    '''\n",
    "    trial_id = traj_dict['task_id']\n",
    "    if low_level:\n",
    "        action_lists = get_low_level_actions(traj_dict, unique)[0]\n",
    "    else:\n",
    "        action_lists = get_high_level_actions(traj_dict)\n",
    "    return [(trial_id, action) for action in action_lists]"
   ]
  },
  {
   "cell_type": "code",
   "execution_count": 6,
   "metadata": {},
   "outputs": [],
   "source": [
    "'''\n",
    "calculate statistical information\n",
    "'''\n",
    "\n",
    "def get_pair_frequency(pair_list, normalize = True):\n",
    "    '''\n",
    "    convert a list of term pairs to a 2-d matrix\n",
    "    input: [(t1, t2), (t1, t3), (t2, t3)]\n",
    "    output: matrix, key list, value list\n",
    "           t2, t3\n",
    "        t1 0.5 0.5\n",
    "        t2 0   0.5\n",
    "        [t1, t2]\n",
    "        [t2, t3]\n",
    "    '''\n",
    "\n",
    "    all_keys = list(set([pair[0] for pair in pair_list]))\n",
    "    all_values = list(set([pair[1] for pair in pair_list]))\n",
    "    all_keys.sort()\n",
    "    all_values.sort()\n",
    "    freq_matrix = np.zeros([len(all_keys), len(all_values)])\n",
    "    count_dict = collections.Counter(pair_list)\n",
    "    def fill_matrix(indexs):\n",
    "        i_key, i_value = indexs\n",
    "        pair = (all_keys[i_key], all_values[i_value])\n",
    "        freq_matrix[i_key][i_value] = count_dict.get(pair, 0)\n",
    "    list(map(lambda x:fill_matrix(x), [(i_key, i_value) for i_key in range(len(all_keys)) for i_value in range(len(all_values))]))\n",
    "    if normalize:\n",
    "        freq_matrix = freq_matrix/(np.sum(freq_matrix, axis=1, keepdims=True)+1e-7)\n",
    "    return freq_matrix, all_keys, all_values\n",
    "\n",
    "def get_frequency(name_list, normalize=True):\n",
    "    '''\n",
    "    convert a list of terms to a vector representing the frequency\n",
    "    input: (t1, t2, t3, t1)\n",
    "    output: (0.5, 0.25, 0.25), [t1, t2, t3]\n",
    "    '''\n",
    "    count_dict = collections.Counter(name_list)\n",
    "    keys = list(count_dict.keys())\n",
    "    keys.sort()\n",
    "    frequency_vector = np.array([count_dict[key] for key in keys])\n",
    "    if normalize:\n",
    "        frequency_vector = frequency_vector/(np.sum(frequency_vector, keepdims=True)+1e-7)\n",
    "    return frequency_vector, keys"
   ]
  },
  {
   "cell_type": "code",
   "execution_count": 7,
   "metadata": {},
   "outputs": [],
   "source": [
    "filepaths_dict = get_filepath_dict()\n",
    "train_paths = filepaths_dict['train']\n",
    "val_seen_paths = filepaths_dict['valid_seen']\n",
    "val_unseen_paths = filepaths_dict['valid_unseen']"
   ]
  },
  {
   "cell_type": "code",
   "execution_count": 397,
   "metadata": {},
   "outputs": [],
   "source": [
    "\n",
    "'''\n",
    "load traj dicts\n",
    "'''\n",
    "\n",
    "val_seen_traj_list = load_json_all(val_seen_paths)\n",
    "val_unseen_traj_list = load_json_all(val_unseen_paths)\n",
    "train_traj_list = load_json_all(train_paths)\n",
    "\n",
    "# '''\n",
    "# data analysis\n",
    "# '''\n",
    "# action_list = []\n",
    "# for traj in val_seen_traj_list:\n",
    "#     action_list.extend(get_low_level_actions(traj)[0])\n",
    "# pair_freq = get_frequency(action_list, normalize = False)"
   ]
  },
  {
   "cell_type": "code",
   "execution_count": 399,
   "metadata": {},
   "outputs": [
    {
     "name": "stdout",
     "output_type": "stream",
     "text": [
      "251\n",
      "255\n",
      "6574\n"
     ]
    }
   ],
   "source": [
    "print(len(val_seen_traj_list))\n",
    "print(len(val_unseen_traj_list))\n",
    "print(len(train_traj_list))"
   ]
  },
  {
   "cell_type": "markdown",
   "metadata": {},
   "source": [
    "## Statistics (expectation, standard deviation, max, min) on the number of actions "
   ]
  },
  {
   "cell_type": "markdown",
   "metadata": {},
   "source": [
    "### High Level "
   ]
  },
  {
   "cell_type": "code",
   "execution_count": 187,
   "metadata": {},
   "outputs": [],
   "source": [
    "# train\n",
    "low_num_actions_list_train = []\n",
    "high_num_actions_list_train = []\n",
    "\n",
    "for traj in train_traj_list:\n",
    "    low_num_actions_list_train.append(get_action_seq_length(traj, low_level=True, unique = False))\n",
    "    high_num_actions_list_train.append(get_action_seq_length(traj, low_level=False, unique = False) - 1) #minus one because ending action token\n",
    "    \n",
    "low_num_actions_list_train = np.array(low_num_actions_list_train)\n",
    "high_num_actions_list_train = np.array(high_num_actions_list_train)    \n",
    "\n",
    "# seen_val\n",
    "\n",
    "low_num_actions_list_val = []\n",
    "high_num_actions_list_val = []\n",
    "\n",
    "\n",
    "for traj in val_seen_traj_list:\n",
    "    low_num_actions_list_val.append(get_action_seq_length(traj, low_level=True, unique = False))\n",
    "    high_num_actions_list_val.append(get_action_seq_length(traj, low_level=False, unique = False) - 1) #minus one because ending action token\n",
    "    \n",
    "low_num_actions_list_val = np.array(low_num_actions_list_val)\n",
    "high_num_actions_list_val = np.array(high_num_actions_list_val)\n",
    "\n",
    "# unseen_val\n",
    "\n",
    "low_num_actions_list_val_unseen = []\n",
    "high_num_actions_list_val_unseen = []\n",
    "\n",
    "\n",
    "for traj in val_unseen_traj_list:\n",
    "    low_num_actions_list_val_unseen.append(get_action_seq_length(traj, low_level=True, unique = False))\n",
    "    high_num_actions_list_val_unseen.append(get_action_seq_length(traj, low_level=False, unique = False) - 1) #minus one because ending action token\n",
    "    \n",
    "low_num_actions_list_val_unseen = np.array(low_num_actions_list_val_unseen)\n",
    "high_num_actions_list_val_unseen = np.array(high_num_actions_list_val_unseen)\n"
   ]
  },
  {
   "cell_type": "code",
   "execution_count": 401,
   "metadata": {},
   "outputs": [
    {
     "name": "stdout",
     "output_type": "stream",
     "text": [
      "\\begin{tabular}{lr}\n",
      "\\toprule\n",
      "{} &  Count of Low-Level Actions \\\\\n",
      "\\midrule\n",
      "mean &                   46.976471 \\\\\n",
      "std  &                   20.219062 \\\\\n",
      "max  &                  137.000000 \\\\\n",
      "min  &                   13.000000 \\\\\n",
      "\\bottomrule\n",
      "\\end{tabular}\n",
      "\n"
     ]
    }
   ],
   "source": [
    "# Unseen Val Low-level\n",
    "low_num_actions_list_val_unseen_df = pd.DataFrame(low_num_actions_list_val_unseen, columns = ['Count of Low-Level Actions'])\n",
    "print(low_num_actions_list_val_unseen_df.describe().loc[[\"mean\",\"std\",\"max\",\"min\"]].to_latex())"
   ]
  },
  {
   "cell_type": "code",
   "execution_count": 402,
   "metadata": {},
   "outputs": [
    {
     "name": "stdout",
     "output_type": "stream",
     "text": [
      "\\begin{tabular}{lr}\n",
      "\\toprule\n",
      "{} &  Count of High-Level Actions \\\\\n",
      "\\midrule\n",
      "mean &                     6.156863 \\\\\n",
      "std  &                     2.330663 \\\\\n",
      "max  &                    14.000000 \\\\\n",
      "min  &                     3.000000 \\\\\n",
      "\\bottomrule\n",
      "\\end{tabular}\n",
      "\n"
     ]
    }
   ],
   "source": [
    "# Unseen Val high-level\n",
    "high_num_actions_list_val_unseen_df = pd.DataFrame(high_num_actions_list_val_unseen, columns = ['Count of High-Level Actions'])\n",
    "print(high_num_actions_list_val_unseen_df.describe().loc[[\"mean\",\"std\",\"max\",\"min\"]].to_latex())"
   ]
  },
  {
   "cell_type": "code",
   "execution_count": 404,
   "metadata": {},
   "outputs": [
    {
     "name": "stdout",
     "output_type": "stream",
     "text": [
      "\\begin{tabular}{lr}\n",
      "\\toprule\n",
      "{} &  Count of Low-Level Actions \\\\\n",
      "\\midrule\n",
      "mean &                   49.782476 \\\\\n",
      "std  &                   24.778038 \\\\\n",
      "max  &                  234.000000 \\\\\n",
      "min  &                    5.000000 \\\\\n",
      "\\bottomrule\n",
      "\\end{tabular}\n",
      "\n"
     ]
    }
   ],
   "source": [
    "# Train Low-level\n",
    "low_num_actions_list_train_df = pd.DataFrame(low_num_actions_list_train, columns = ['Count of Low-Level Actions'])\n",
    "print(low_num_actions_list_train_df.describe().loc[[\"mean\",\"std\",\"max\",\"min\"]].to_latex())"
   ]
  },
  {
   "cell_type": "code",
   "execution_count": 196,
   "metadata": {},
   "outputs": [
    {
     "name": "stdout",
     "output_type": "stream",
     "text": [
      "\\begin{tabular}{lr}\n",
      "\\toprule\n",
      "{} &  Count of Low-Level Actions \\\\\n",
      "\\midrule\n",
      "mean &                   49.782476 \\\\\n",
      "std  &                   24.778038 \\\\\n",
      "max  &                  234.000000 \\\\\n",
      "min  &                    5.000000 \\\\\n",
      "\\bottomrule\n",
      "\\end{tabular}\n",
      "\n"
     ]
    }
   ],
   "source": [
    "# Train Low-level\n",
    "low_num_actions_list_train_df = pd.DataFrame(low_num_actions_list_train, columns = ['Count of Low-Level Actions'])\n",
    "print(low_num_actions_list_train_df.describe().loc[[\"mean\",\"std\",\"max\",\"min\"]].to_latex())"
   ]
  },
  {
   "cell_type": "code",
   "execution_count": 197,
   "metadata": {},
   "outputs": [
    {
     "name": "stdout",
     "output_type": "stream",
     "text": [
      "\\begin{tabular}{lr}\n",
      "\\toprule\n",
      "{} &  Count of High-Level Actions \\\\\n",
      "\\midrule\n",
      "mean &                     6.513538 \\\\\n",
      "std  &                     2.488809 \\\\\n",
      "max  &                    19.000000 \\\\\n",
      "min  &                     2.000000 \\\\\n",
      "\\bottomrule\n",
      "\\end{tabular}\n",
      "\n"
     ]
    }
   ],
   "source": [
    "# Train High-level\n",
    "high_num_actions_list_train_df = pd.DataFrame(high_num_actions_list_train, columns = ['Count of High-Level Actions'])\n",
    "print(high_num_actions_list_train_df.describe().loc[[\"mean\",\"std\",\"max\",\"min\"]].to_latex())"
   ]
  },
  {
   "cell_type": "code",
   "execution_count": 198,
   "metadata": {},
   "outputs": [
    {
     "name": "stdout",
     "output_type": "stream",
     "text": [
      "\\begin{tabular}{lr}\n",
      "\\toprule\n",
      "{} &  Count of Low-Level Actions \\\\\n",
      "\\midrule\n",
      "mean &                   50.119522 \\\\\n",
      "std  &                   25.609562 \\\\\n",
      "max  &                  165.000000 \\\\\n",
      "min  &                   12.000000 \\\\\n",
      "\\bottomrule\n",
      "\\end{tabular}\n",
      "\n"
     ]
    }
   ],
   "source": [
    "# Val seen Low-level\n",
    "low_num_actions_list_val_df = pd.DataFrame(low_num_actions_list_val, columns = ['Count of Low-Level Actions'])\n",
    "print(low_num_actions_list_val_df.describe().loc[[\"mean\",\"std\",\"max\",\"min\"]].to_latex())"
   ]
  },
  {
   "cell_type": "code",
   "execution_count": 199,
   "metadata": {},
   "outputs": [
    {
     "name": "stdout",
     "output_type": "stream",
     "text": [
      "\\begin{tabular}{lr}\n",
      "\\toprule\n",
      "{} &  Count of High-Level Actions \\\\\n",
      "\\midrule\n",
      "mean &                     6.470120 \\\\\n",
      "std  &                     2.620325 \\\\\n",
      "max  &                    16.000000 \\\\\n",
      "min  &                     3.000000 \\\\\n",
      "\\bottomrule\n",
      "\\end{tabular}\n",
      "\n"
     ]
    }
   ],
   "source": [
    "# Val seen High-level\n",
    "high_num_actions_list_val_df = pd.DataFrame(high_num_actions_list_val, columns = ['Count of High-Level Actions'])\n",
    "print(high_num_actions_list_val_df.describe().loc[[\"mean\",\"std\",\"max\",\"min\"]].to_latex())"
   ]
  },
  {
   "cell_type": "markdown",
   "metadata": {},
   "source": [
    "## Statistics (expectation, standard deviation, max, min) of number of repetitions for each action"
   ]
  },
  {
   "cell_type": "code",
   "execution_count": 202,
   "metadata": {},
   "outputs": [],
   "source": [
    "#only looking at the training set and low-level actions"
   ]
  },
  {
   "cell_type": "code",
   "execution_count": 210,
   "metadata": {},
   "outputs": [],
   "source": [
    "repetition_dict = {}\n",
    "\n",
    "for traj in train_traj_list:\n",
    "    \n",
    "    action_pairs = get_action_action_pairs(traj, low_level=True, unique=False)\n",
    "    \n",
    "    for action_pair in action_pairs:\n",
    "        if action_pair[0] == action_pair[1]:\n",
    "            if action_pair[0] in repetition_dict.keys():\n",
    "                # add one if not the first repetition\n",
    "                \n",
    "                repetition_dict[action_pair[0]] += 1 \n",
    "            else:\n",
    "                repetition_dict[action_pair[0]] = 1\n",
    "    \n",
    "for i in repetition_dict:\n",
    "    repetition_dict[i] = repetition_dict[i] / len(train_traj_list)  "
   ]
  },
  {
   "cell_type": "code",
   "execution_count": 225,
   "metadata": {},
   "outputs": [],
   "source": [
    "duplicate_df = pd.DataFrame.from_dict(repetition_dict, orient = \"index\", columns = [\"Average duplicate count per task\"]).reset_index()\n"
   ]
  },
  {
   "cell_type": "code",
   "execution_count": 413,
   "metadata": {},
   "outputs": [
    {
     "data": {
      "text/html": [
       "\n",
       "<div id=\"altair-viz-8a267014728648328832ea72bf6259c5\"></div>\n",
       "<script type=\"text/javascript\">\n",
       "  (function(spec, embedOpt){\n",
       "    let outputDiv = document.currentScript.previousElementSibling;\n",
       "    if (outputDiv.id !== \"altair-viz-8a267014728648328832ea72bf6259c5\") {\n",
       "      outputDiv = document.getElementById(\"altair-viz-8a267014728648328832ea72bf6259c5\");\n",
       "    }\n",
       "    const paths = {\n",
       "      \"vega\": \"https://cdn.jsdelivr.net/npm//vega@5?noext\",\n",
       "      \"vega-lib\": \"https://cdn.jsdelivr.net/npm//vega-lib?noext\",\n",
       "      \"vega-lite\": \"https://cdn.jsdelivr.net/npm//vega-lite@4.8.1?noext\",\n",
       "      \"vega-embed\": \"https://cdn.jsdelivr.net/npm//vega-embed@6?noext\",\n",
       "    };\n",
       "\n",
       "    function loadScript(lib) {\n",
       "      return new Promise(function(resolve, reject) {\n",
       "        var s = document.createElement('script');\n",
       "        s.src = paths[lib];\n",
       "        s.async = true;\n",
       "        s.onload = () => resolve(paths[lib]);\n",
       "        s.onerror = () => reject(`Error loading script: ${paths[lib]}`);\n",
       "        document.getElementsByTagName(\"head\")[0].appendChild(s);\n",
       "      });\n",
       "    }\n",
       "\n",
       "    function showError(err) {\n",
       "      outputDiv.innerHTML = `<div class=\"error\" style=\"color:red;\">${err}</div>`;\n",
       "      throw err;\n",
       "    }\n",
       "\n",
       "    function displayChart(vegaEmbed) {\n",
       "      vegaEmbed(outputDiv, spec, embedOpt)\n",
       "        .catch(err => showError(`Javascript Error: ${err.message}<br>This usually means there's a typo in your chart specification. See the javascript console for the full traceback.`));\n",
       "    }\n",
       "\n",
       "    if(typeof define === \"function\" && define.amd) {\n",
       "      requirejs.config({paths});\n",
       "      require([\"vega-embed\"], displayChart, err => showError(`Error loading script: ${err.message}`));\n",
       "    } else if (typeof vegaEmbed === \"function\") {\n",
       "      displayChart(vegaEmbed);\n",
       "    } else {\n",
       "      loadScript(\"vega\")\n",
       "        .then(() => loadScript(\"vega-lite\"))\n",
       "        .then(() => loadScript(\"vega-embed\"))\n",
       "        .catch(showError)\n",
       "        .then(() => displayChart(vegaEmbed));\n",
       "    }\n",
       "  })({\"config\": {\"view\": {\"continuousWidth\": 400, \"continuousHeight\": 300}}, \"data\": {\"name\": \"data-5f494fe93add4984fe575a43bbd995b0\"}, \"mark\": \"bar\", \"encoding\": {\"x\": {\"type\": \"nominal\", \"field\": \"index\"}, \"y\": {\"type\": \"quantitative\", \"field\": \"Average duplicate count per task\"}}, \"height\": 120, \"width\": 200, \"$schema\": \"https://vega.github.io/schema/vega-lite/v4.8.1.json\", \"datasets\": {\"data-5f494fe93add4984fe575a43bbd995b0\": [{\"index\": \"MoveAhead\", \"Average duplicate count per task\": 22.873897170672347}, {\"index\": \"RotateLeft\", \"Average duplicate count per task\": 0.5155156677821722}, {\"index\": \"RotateRight\", \"Average duplicate count per task\": 0.48341953148767874}, {\"index\": \"LookUp\", \"Average duplicate count per task\": 0.3746577426224521}, {\"index\": \"LookDown\", \"Average duplicate count per task\": 0.19379373288713111}, {\"index\": \"SliceObject\", \"Average duplicate count per task\": 0.0009126863401277761}]}}, {\"mode\": \"vega-lite\"});\n",
       "</script>"
      ],
      "text/plain": [
       "alt.Chart(...)"
      ]
     },
     "execution_count": 413,
     "metadata": {},
     "output_type": "execute_result"
    }
   ],
   "source": [
    "import altair\n",
    "\n",
    "alt.Chart(duplicate_df).mark_bar().encode(\n",
    "    x='index',\n",
    "    y='Average duplicate count per task'\n",
    ").properties(\n",
    "    width=200,\n",
    "    height=120\n",
    ")"
   ]
  },
  {
   "cell_type": "markdown",
   "metadata": {},
   "source": [
    "## After collapsing repeated actions, frequency of pairs of actions following each other (A1, A2) and confusion matrix"
   ]
  },
  {
   "cell_type": "code",
   "execution_count": 416,
   "metadata": {},
   "outputs": [],
   "source": [
    "pair_list = []\n",
    "for traj in train_traj_list:\n",
    "    pair_list.extend(get_action_action_pairs(traj, low_level=True, unique=False))\n",
    "    "
   ]
  },
  {
   "cell_type": "code",
   "execution_count": 425,
   "metadata": {},
   "outputs": [
    {
     "data": {
      "text/plain": [
       "<AxesSubplot:>"
      ]
     },
     "execution_count": 425,
     "metadata": {},
     "output_type": "execute_result"
    },
    {
     "data": {
      "image/png": "[encoded data removed]",
      "text/plain": [
       "<Figure size 648x360 with 2 Axes>"
      ]
     },
     "metadata": {
      "needs_background": "light"
     },
     "output_type": "display_data"
    }
   ],
   "source": [
    "conf_matrix = get_pair_frequency(pair_list, normalize = False)\n",
    "\n",
    "import seaborn as sn\n",
    "\n",
    "setup_dp = pd.DataFrame(conf_matrix[0].astype(int), index = conf_matrix[1],\n",
    "                  columns = conf_matrix[2])\n",
    "plt.figure(figsize = (9,5))\n",
    "sn.heatmap(setup_dp,annot=True,fmt=\"d\", center =50000, cmap = \"Greens\")"
   ]
  },
  {
   "cell_type": "markdown",
   "metadata": {},
   "source": [
    "## Frequency of objects acted on"
   ]
  },
  {
   "cell_type": "code",
   "execution_count": 335,
   "metadata": {},
   "outputs": [],
   "source": [
    "obj_count = {}\n",
    "for traj in train_traj_list:\n",
    "    obj_list = get_object_acted_on(traj)\n",
    "    \n",
    "    for obj in obj_list:\n",
    "        \n",
    "        if obj in obj_count.keys():\n",
    "            obj_count[obj] += 1\n",
    "            #adding one to known dict keys, else setting value to 1\n",
    "        else:\n",
    "            obj_count[obj] = 1\n"
   ]
  },
  {
   "cell_type": "code",
   "execution_count": 365,
   "metadata": {},
   "outputs": [
    {
     "data": {
      "text/html": [
       "\n",
       "<div id=\"altair-viz-bd3b9630004044818681e1b45e1c0f34\"></div>\n",
       "<script type=\"text/javascript\">\n",
       "  (function(spec, embedOpt){\n",
       "    let outputDiv = document.currentScript.previousElementSibling;\n",
       "    if (outputDiv.id !== \"altair-viz-bd3b9630004044818681e1b45e1c0f34\") {\n",
       "      outputDiv = document.getElementById(\"altair-viz-bd3b9630004044818681e1b45e1c0f34\");\n",
       "    }\n",
       "    const paths = {\n",
       "      \"vega\": \"https://cdn.jsdelivr.net/npm//vega@5?noext\",\n",
       "      \"vega-lib\": \"https://cdn.jsdelivr.net/npm//vega-lib?noext\",\n",
       "      \"vega-lite\": \"https://cdn.jsdelivr.net/npm//vega-lite@4.8.1?noext\",\n",
       "      \"vega-embed\": \"https://cdn.jsdelivr.net/npm//vega-embed@6?noext\",\n",
       "    };\n",
       "\n",
       "    function loadScript(lib) {\n",
       "      return new Promise(function(resolve, reject) {\n",
       "        var s = document.createElement('script');\n",
       "        s.src = paths[lib];\n",
       "        s.async = true;\n",
       "        s.onload = () => resolve(paths[lib]);\n",
       "        s.onerror = () => reject(`Error loading script: ${paths[lib]}`);\n",
       "        document.getElementsByTagName(\"head\")[0].appendChild(s);\n",
       "      });\n",
       "    }\n",
       "\n",
       "    function showError(err) {\n",
       "      outputDiv.innerHTML = `<div class=\"error\" style=\"color:red;\">${err}</div>`;\n",
       "      throw err;\n",
       "    }\n",
       "\n",
       "    function displayChart(vegaEmbed) {\n",
       "      vegaEmbed(outputDiv, spec, embedOpt)\n",
       "        .catch(err => showError(`Javascript Error: ${err.message}<br>This usually means there's a typo in your chart specification. See the javascript console for the full traceback.`));\n",
       "    }\n",
       "\n",
       "    if(typeof define === \"function\" && define.amd) {\n",
       "      requirejs.config({paths});\n",
       "      require([\"vega-embed\"], displayChart, err => showError(`Error loading script: ${err.message}`));\n",
       "    } else if (typeof vegaEmbed === \"function\") {\n",
       "      displayChart(vegaEmbed);\n",
       "    } else {\n",
       "      loadScript(\"vega\")\n",
       "        .then(() => loadScript(\"vega-lite\"))\n",
       "        .then(() => loadScript(\"vega-embed\"))\n",
       "        .catch(showError)\n",
       "        .then(() => displayChart(vegaEmbed));\n",
       "    }\n",
       "  })({\"config\": {\"view\": {\"continuousWidth\": 400, \"continuousHeight\": 300}}, \"data\": {\"name\": \"data-91265fa9f30c81a5e8e9009a125eef0d\"}, \"mark\": \"bar\", \"encoding\": {\"x\": {\"type\": \"nominal\", \"field\": \"index\", \"sort\": {\"field\": \"Object Count\", \"op\": \"count\", \"order\": \"ascending\"}}, \"y\": {\"type\": \"quantitative\", \"field\": \"Object Count\"}}, \"$schema\": \"https://vega.github.io/schema/vega-lite/v4.8.1.json\", \"datasets\": {\"data-91265fa9f30c81a5e8e9009a125eef0d\": [{\"index\": \"Microwave\", \"Object Count\": 6633}, {\"index\": \"Fridge\", \"Object Count\": 5539}, {\"index\": \"Cabinet\", \"Object Count\": 1790}, {\"index\": \"Faucet\", \"Object Count\": 1790}, {\"index\": \"Potato\", \"Object Count\": 1675}, {\"index\": \"Apple\", \"Object Count\": 1552}, {\"index\": \"Tomato\", \"Object Count\": 1542}, {\"index\": \"ButterKnife\", \"Object Count\": 1279}, {\"index\": \"Mug\", \"Object Count\": 1223}, {\"index\": \"Knife\", \"Object Count\": 1109}, {\"index\": \"Lettuce\", \"Object Count\": 1096}, {\"index\": \"Bread\", \"Object Count\": 1006}, {\"index\": \"Cup\", \"Object Count\": 920}, {\"index\": \"Drawer\", \"Object Count\": 910}, {\"index\": \"Plate\", \"Object Count\": 792}, {\"index\": \"SoapBar\", \"Object Count\": 754}, {\"index\": \"Bowl\", \"Object Count\": 709}, {\"index\": \"Pan\", \"Object Count\": 672}, {\"index\": \"Egg\", \"Object Count\": 662}, {\"index\": \"Pot\", \"Object Count\": 602}]}}, {\"mode\": \"vega-lite\"});\n",
       "</script>"
      ],
      "text/plain": [
       "alt.Chart(...)"
      ]
     },
     "execution_count": 365,
     "metadata": {},
     "output_type": "execute_result"
    }
   ],
   "source": [
    "sorted_obj_df = pd.DataFrame.from_dict(obj_count, orient = \"index\", columns = [\"Object Count\"]).sort_values(\"Object Count\",ascending=False).reset_index()\n",
    "\n",
    "alt.Chart(sorted_obj_df[:20]).mark_bar().encode(\n",
    "    x=alt.X('index:N', sort=alt.EncodingSortField(field=\"Object Count\", op=\"count\", order='ascending')),\n",
    "    y='Object Count'\n",
    ")"
   ]
  },
  {
   "cell_type": "code",
   "execution_count": 363,
   "metadata": {},
   "outputs": [],
   "source": [
    "all_obj_count = {}\n",
    "for traj in train_traj_list:\n",
    "    all_obj_list = get_all_objects(traj,non_repeat =False)\n",
    "    \n",
    "    for obj in all_obj_list:\n",
    "        \n",
    "        if obj in all_obj_count.keys():\n",
    "            all_obj_count[obj] += 1\n",
    "        else:\n",
    "            all_obj_count[obj] = 1\n"
   ]
  },
  {
   "cell_type": "code",
   "execution_count": 366,
   "metadata": {},
   "outputs": [
    {
     "data": {
      "text/html": [
       "\n",
       "<div id=\"altair-viz-376ffcffee2c439390bceeb547edbfc7\"></div>\n",
       "<script type=\"text/javascript\">\n",
       "  (function(spec, embedOpt){\n",
       "    let outputDiv = document.currentScript.previousElementSibling;\n",
       "    if (outputDiv.id !== \"altair-viz-376ffcffee2c439390bceeb547edbfc7\") {\n",
       "      outputDiv = document.getElementById(\"altair-viz-376ffcffee2c439390bceeb547edbfc7\");\n",
       "    }\n",
       "    const paths = {\n",
       "      \"vega\": \"https://cdn.jsdelivr.net/npm//vega@5?noext\",\n",
       "      \"vega-lib\": \"https://cdn.jsdelivr.net/npm//vega-lib?noext\",\n",
       "      \"vega-lite\": \"https://cdn.jsdelivr.net/npm//vega-lite@4.8.1?noext\",\n",
       "      \"vega-embed\": \"https://cdn.jsdelivr.net/npm//vega-embed@6?noext\",\n",
       "    };\n",
       "\n",
       "    function loadScript(lib) {\n",
       "      return new Promise(function(resolve, reject) {\n",
       "        var s = document.createElement('script');\n",
       "        s.src = paths[lib];\n",
       "        s.async = true;\n",
       "        s.onload = () => resolve(paths[lib]);\n",
       "        s.onerror = () => reject(`Error loading script: ${paths[lib]}`);\n",
       "        document.getElementsByTagName(\"head\")[0].appendChild(s);\n",
       "      });\n",
       "    }\n",
       "\n",
       "    function showError(err) {\n",
       "      outputDiv.innerHTML = `<div class=\"error\" style=\"color:red;\">${err}</div>`;\n",
       "      throw err;\n",
       "    }\n",
       "\n",
       "    function displayChart(vegaEmbed) {\n",
       "      vegaEmbed(outputDiv, spec, embedOpt)\n",
       "        .catch(err => showError(`Javascript Error: ${err.message}<br>This usually means there's a typo in your chart specification. See the javascript console for the full traceback.`));\n",
       "    }\n",
       "\n",
       "    if(typeof define === \"function\" && define.amd) {\n",
       "      requirejs.config({paths});\n",
       "      require([\"vega-embed\"], displayChart, err => showError(`Error loading script: ${err.message}`));\n",
       "    } else if (typeof vegaEmbed === \"function\") {\n",
       "      displayChart(vegaEmbed);\n",
       "    } else {\n",
       "      loadScript(\"vega\")\n",
       "        .then(() => loadScript(\"vega-lite\"))\n",
       "        .then(() => loadScript(\"vega-embed\"))\n",
       "        .catch(showError)\n",
       "        .then(() => displayChart(vegaEmbed));\n",
       "    }\n",
       "  })({\"config\": {\"view\": {\"continuousWidth\": 400, \"continuousHeight\": 300}}, \"data\": {\"name\": \"data-6bbf54380c3599c7b3ef63c166b3c863\"}, \"mark\": \"bar\", \"encoding\": {\"x\": {\"type\": \"nominal\", \"field\": \"index\", \"sort\": {\"field\": \"All Object Count\", \"op\": \"count\", \"order\": \"ascending\"}}, \"y\": {\"type\": \"quantitative\", \"field\": \"All Object Count\"}}, \"$schema\": \"https://vega.github.io/schema/vega-lite/v4.8.1.json\", \"datasets\": {\"data-6bbf54380c3599c7b3ef63c166b3c863\": [{\"index\": \"SoapBottle\", \"All Object Count\": 8777}, {\"index\": \"Bowl\", \"All Object Count\": 7761}, {\"index\": \"Mug\", \"All Object Count\": 7710}, {\"index\": \"DishSponge\", \"All Object Count\": 7388}, {\"index\": \"Plate\", \"All Object Count\": 7162}, {\"index\": \"Apple\", \"All Object Count\": 7035}, {\"index\": \"PepperShaker\", \"All Object Count\": 6978}, {\"index\": \"Spoon\", \"All Object Count\": 6916}, {\"index\": \"Tomato\", \"All Object Count\": 6916}, {\"index\": \"Egg\", \"All Object Count\": 6885}, {\"index\": \"Fork\", \"All Object Count\": 6866}, {\"index\": \"Potato\", \"All Object Count\": 6856}, {\"index\": \"SaltShaker\", \"All Object Count\": 6848}, {\"index\": \"Cup\", \"All Object Count\": 6820}, {\"index\": \"Knife\", \"All Object Count\": 6748}, {\"index\": \"Spatula\", \"All Object Count\": 6688}, {\"index\": \"ButterKnife\", \"All Object Count\": 6311}, {\"index\": \"Lettuce\", \"All Object Count\": 6179}, {\"index\": \"Bread\", \"All Object Count\": 5423}, {\"index\": \"Pot\", \"All Object Count\": 5321}]}}, {\"mode\": \"vega-lite\"});\n",
       "</script>"
      ],
      "text/plain": [
       "alt.Chart(...)"
      ]
     },
     "execution_count": 366,
     "metadata": {},
     "output_type": "execute_result"
    }
   ],
   "source": [
    "sorted_all_obj_df = pd.DataFrame.from_dict(all_obj_count, orient = \"index\", columns = [\"All Object Count\"]).sort_values(\"All Object Count\",ascending=False).reset_index()\n",
    "\n",
    "alt.Chart(sorted_all_obj_df[:20]).mark_bar().encode(\n",
    "    x=alt.X('index:N', sort=alt.EncodingSortField(field=\"All Object Count\", op=\"count\", order='ascending')),\n",
    "    y='All Object Count'\n",
    ")"
   ]
  },
  {
   "cell_type": "code",
   "execution_count": 372,
   "metadata": {},
   "outputs": [],
   "source": [
    "percentage_of_obj_acted = sorted_obj_df[\"Object Count\"].sum() / sorted_all_obj_df[\"All Object Count\"].sum()"
   ]
  },
  {
   "cell_type": "code",
   "execution_count": 385,
   "metadata": {
    "scrolled": true
   },
   "outputs": [
    {
     "name": "stdout",
     "output_type": "stream",
     "text": [
      "Percentage of objects that are used:  19.41\n"
     ]
    }
   ],
   "source": [
    "print(\"Percentage of objects that are used: \", round(percentage_of_obj_acted,4)*100)"
   ]
  },
  {
   "cell_type": "markdown",
   "metadata": {},
   "source": [
    "## Action Object Confusion Matrix"
   ]
  },
  {
   "cell_type": "code",
   "execution_count": 427,
   "metadata": {},
   "outputs": [],
   "source": [
    "pair_list = []\n",
    "for traj in train_traj_list:\n",
    "    pair_list.extend(get_action_object_pairs(traj))\n",
    "    "
   ]
  },
  {
   "cell_type": "code",
   "execution_count": 433,
   "metadata": {},
   "outputs": [
    {
     "data": {
      "text/plain": [
       "<AxesSubplot:>"
      ]
     },
     "execution_count": 433,
     "metadata": {},
     "output_type": "execute_result"
    },
    {
     "data": {
      "image/png": "[encoded data removed]",
      "text/plain": [
       "<Figure size 1800x504 with 2 Axes>"
      ]
     },
     "metadata": {
      "needs_background": "light"
     },
     "output_type": "display_data"
    }
   ],
   "source": [
    "conf_matrix = get_pair_frequency(pair_list, normalize = False)\n",
    "\n",
    "setup_dp = pd.DataFrame(conf_matrix[0].astype(int), index = conf_matrix[1],\n",
    "                  columns = conf_matrix[2])\n",
    "plt.figure(figsize = (25,7))\n",
    "sn.heatmap(setup_dp,fmt=\"d\", cmap = \"Greens\")"
   ]
  }
 ],
 "metadata": {
  "kernelspec": {
   "display_name": "Python 3",
   "language": "python",
   "name": "python3"
  },
  "language_info": {
   "codemirror_mode": {
    "name": "ipython",
    "version": 3
   },
   "file_extension": ".py",
   "mimetype": "text/x-python",
   "name": "python",
   "nbconvert_exporter": "python",
   "pygments_lexer": "ipython3",
   "version": "3.8.5"
  }
 },
 "nbformat": 4,
 "nbformat_minor": 4
}
