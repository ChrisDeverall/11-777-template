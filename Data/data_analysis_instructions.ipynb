{
 "cells": [
  {
   "cell_type": "code",
   "execution_count": 1,
   "metadata": {},
   "outputs": [],
   "source": [
    "import os\n",
    "import glob\n",
    "import json\n",
    "import collections\n",
    "import numpy as np\n",
    "import pandas as pd\n",
    "import matplotlib\n",
    "\n",
    "'''\n",
    " Please modify the split names and main_folder for the dataset if necessary. \n",
    " I assume the structure of data folder to be\n",
    " \n",
    " main_folder/split_names/task_name/trial_name/traj_data.json\n",
    "'''\n",
    "\n",
    "split_names = [\"train\", \"valid_seen\", \"valid_unseen\"]\n",
    "main_folder = \"json_2.1.0\""
   ]
  },
  {
   "cell_type": "code",
   "execution_count": 2,
   "metadata": {},
   "outputs": [],
   "source": [
    "'''\n",
    "read_file and load json\n",
    "'''\n",
    "def get_filepath_dict(output_as_txt=False): # indicate whether to output the paths as txt files\n",
    "    '''\n",
    "    generate a dict that maps split names to a list that contains all related json files\n",
    "    return {split_name:[list_of_filepaths]}\n",
    "    '''\n",
    "    filename_dict = {}\n",
    "    for split_name in split_names:\n",
    "        folder_path = os.path.join(main_folder, split_name)\n",
    "        if os.path.isdir(folder_path):\n",
    "            file_paths = list(glob.glob(folder_path + '/*/*/*.json'))\n",
    "            file_paths.sort()\n",
    "        filename_dict[split_name] = file_paths\n",
    "        if output_as_txt:\n",
    "            with open(split_name+\"_filepaths.txt\", \"w\") as f:\n",
    "                for file_path in file_paths:\n",
    "                    f.write(file_path + \"\\n\")\n",
    "    return filename_dict # return dict with keys to be split names and values to be lists of filepaths\n",
    "\n",
    "def read_filepath_from_txt(txt_path): # read file paths from a txt\n",
    "    '''\n",
    "    read filepaths as a list\n",
    "    return [list_of_filepaths]\n",
    "    '''\n",
    "    filename_list = []\n",
    "    with open(txt_path, \"r\") as f:\n",
    "        filename_list = list(f.readlines())\n",
    "    filename_list = [line.strip() for line in filename_list]\n",
    "    return filename_list # return a list of filenames\n",
    "\n",
    "def load_json(file_path): # load one json\n",
    "    with open(file_path, \"r\") as f:\n",
    "        traj_dict = json.load(f)\n",
    "    return traj_dict # return the dict\n",
    "\n",
    "def load_json_all(file_path_list): # load all json given a list of file paths\n",
    "    info_all = []\n",
    "    for file_path in file_path_list:\n",
    "        traj_dict = load_json(file_path)\n",
    "        info_all.append(traj_dict)\n",
    "    return info_all # a list of dict read by json"
   ]
  },
  {
   "cell_type": "code",
   "execution_count": 3,
   "metadata": {},
   "outputs": [],
   "source": [
    "\n",
    "'''\n",
    "get basic information from the dict\n",
    "'''\n",
    "\n",
    "def get_low_level_actions(traj_dict, non_repeat=True):\n",
    "    '''\n",
    "    load an low_level action sequence from the dict given by json file\n",
    "    return [list_of_actions], [whether_object_involved], [repeat numbers]\n",
    "    \n",
    "    by setting remove repeat to true, \n",
    "    we consider the single action performed continuously to be a one action, e.g.\n",
    "    w/o remove repeat: [a0, a1, a1, a2, a3, a3, a3, a4]\n",
    "    w/ remove repeat: [a0, a1, a2, a3, a4]\n",
    "    \n",
    "    '''\n",
    "    action_dict_sequence = traj_dict['plan']['low_actions']\n",
    "    action_sequence_raw = [action_dict['api_action']['action'] for action_dict in action_dict_sequence]\n",
    "    object_involved_raw = [action_dict['discrete_action']['args']!={} for action_dict in action_dict_sequence]\n",
    "    if not non_repeat:\n",
    "        return action_sequence_raw, object_involved_raw, [1] * len(action_dict_sequence)\n",
    "    \n",
    "    action_squence_nonrepeat = []\n",
    "    object_involved_nonrepeat = []\n",
    "    action_repeat_number = []\n",
    "    current_action = \"\"\n",
    "    for action, object_involved in zip(action_sequence_raw, object_involved_raw):\n",
    "        if action != current_action:\n",
    "            action_squence_nonrepeat.append(action)\n",
    "            object_involved_nonrepeat.append(object_involved)\n",
    "            current_action = action\n",
    "            action_repeat_number.append(1)\n",
    "        else:\n",
    "            action_repeat_number[-1] += 1\n",
    "    return action_squence_nonrepeat, object_involved_nonrepeat, action_repeat_number\n",
    "\n",
    "def get_high_level_actions(traj_dict):\n",
    "    '''\n",
    "    load an low_level action sequence from the dict given by json file\n",
    "    return [a1, a2, a3, a4]\n",
    "    \n",
    "    '''\n",
    "    action_dict_sequence = traj_dict['plan']['high_pddl']\n",
    "    action_sequence = [action_dict['discrete_action']['action'] for action_dict in action_dict_sequence]\n",
    "    return action_sequence\n",
    "\n",
    "def get_all_objects(traj_dict, non_repeat=False):\n",
    "    '''\n",
    "    load the list of objects in the scene (not necessarily acted on)\n",
    "    return [list_of_object_names]\n",
    "    '''\n",
    "    object_dict_list = traj_dict['scene']['object_poses']\n",
    "    object_list_raw = [object_dict['objectName'].split(\"_\")[0] for object_dict in object_dict_list]\n",
    "    if not non_repeat:\n",
    "        return object_list_raw\n",
    "    object_list_nonrepeat = list(set(object_list_raw))\n",
    "    return object_list_nonrepeat\n",
    "\n",
    "def get_instructions(traj_dict):\n",
    "    '''\n",
    "    load the instructions\n",
    "    return [list_of_instruction_sequences(list)], [list_of_task_description]\n",
    "    '''\n",
    "    ins_dict_list = traj_dict[\"turk_annotations\"]['anns']\n",
    "    high_descs = [ins_dict['high_descs'] for ins_dict in ins_dict_list]\n",
    "    task_descs = [ins_dict['task_desc'] for ins_dict in ins_dict_list]\n",
    "    return high_descs, task_descs\n",
    "\n",
    "def get_task_type(traj_dict):\n",
    "    return traj_dict['task_type']\n",
    "\n",
    "def get_object_acted_on(traj_dict):\n",
    "    '''\n",
    "    convert a dict read from json to object acted on\n",
    "    return [list_of_objects]\n",
    "\n",
    "    '''\n",
    "    action_dict_sequence = traj_dict['plan']['low_actions']\n",
    "    object_list = [action_dict['api_action']['objectId'].split(\"|\")[0] for action_dict in action_dict_sequence if action_dict['discrete_action']['args']!={}]\n",
    "    return object_list\n",
    "\n",
    "def get_object_and_bbox(traj_dict):\n",
    "    '''\n",
    "    convert a dict read from json to object acted on and corresponding bounding boxes\n",
    "    return [(o1, bb1), (o2, bb2)]\n",
    "    '''\n",
    "    action_dict_sequence = traj_dict['plan']['low_actions']\n",
    "    object_bb_list = [ (action_dict['api_action']['objectId'].split(\"|\")[0],\n",
    "                        action_dict['discrete_action']['args']['bbox']) \n",
    "                      for action_dict in action_dict_sequence if action_dict['discrete_action']['args']!={}]\n",
    "    return object_bb_list"
   ]
  },
  {
   "cell_type": "code",
   "execution_count": 4,
   "metadata": {},
   "outputs": [],
   "source": [
    "'''\n",
    "get length, action/instruction\n",
    "'''\n",
    "\n",
    "def get_instruction_length(traj_dict):\n",
    "    '''\n",
    "    get the average number of instructions for each trial\n",
    "    return float(average_number_of_length)\n",
    "    '''\n",
    "    ins_lists = get_instructions(traj_dict)[0]\n",
    "    return sum([len(ins_list) for ins_list in ins_lists])/len(ins_lists)\n",
    "\n",
    "def get_action_seq_length(traj_dict, low_level=True, unique = True):\n",
    "    '''\n",
    "    get the length of action for each trial\n",
    "    return float(length_of_action_sqeuence)\n",
    "    '''\n",
    "    if low_level:\n",
    "        action_lists = get_low_level_actions(traj_dict, unique)[0]\n",
    "    else:\n",
    "        action_lists = get_high_level_actions(traj_dict)\n",
    "    return len(action_lists)\n",
    "    \n",
    "def get_instruction_to_action_ratio(traj_dict, low_level=True, unique=True):\n",
    "    return get_instruction_length(traj_dict)/get_action_seq_length(traj_dict,low_level, unique = True)"
   ]
  },
  {
   "cell_type": "code",
   "execution_count": 5,
   "metadata": {},
   "outputs": [],
   "source": [
    "'''\n",
    "construct pairs, which might be used in calculating relationship\n",
    "'''\n",
    "\n",
    "def get_action_object_pairs(traj_dict):\n",
    "    '''\n",
    "    convert a dict read from json to a series of action-object pairs (an action and the object acted on)\n",
    "    return [(a1, o1), (a1, o2)]\n",
    "    '''\n",
    "    action_dict_sequence = traj_dict['plan']['low_actions']\n",
    "    action_object_pairs = [ (action_dict['api_action']['action'], action_dict['api_action']['objectId'].split(\"|\")[0]) \n",
    "                           for action_dict in action_dict_sequence if action_dict['discrete_action']['args']!={}]\n",
    "    return action_object_pairs\n",
    "\n",
    "def get_action_action_pairs(traj_dict, low_level=True, unique=True):\n",
    "    '''\n",
    "    convert a dict read from json to a series of action-acton pairs (an action and the following action)\n",
    "    return [(a1, a2), (a1, a3), (a2, a3)]\n",
    "    '''\n",
    "    if low_level:\n",
    "        action_lists = get_low_level_actions(traj_dict, unique)[0]\n",
    "    else:\n",
    "        action_lists = get_high_level_actions(traj_dict)\n",
    "    action_action_pairs = [(action_lists[i], action_lists[i+1]) for i in range(len(action_lists)) if i < (len(action_lists)-1)]\n",
    "    return action_action_pairs\n",
    "\n",
    "def get_task_action_pairs(traj_dict, low_level=True, unique=True):\n",
    "    '''\n",
    "    convert a dict read from json to task-acton pairs\n",
    "    return [(t1, a2), (t1, a3), (t2, a1)]\n",
    "    '''\n",
    "    task_type = get_task_type(traj_dict)\n",
    "    if low_level:\n",
    "        action_lists = get_low_level_actions(traj_dict, unique)[0]\n",
    "    else:\n",
    "        action_lists = get_high_level_actions(traj_dict)\n",
    "    return [(task_type, action) for action in action_lists]\n",
    "\n",
    "def get_attempts_action_pairs(traj_dict, low_level=True, unique=True):\n",
    "    '''\n",
    "    convert a dict read from json to attempt-acton pairs\n",
    "    return [(t1, a2), (t1, a3), (t2, a1)]\n",
    "    '''\n",
    "    trial_id = traj_dict['task_id']\n",
    "    if low_level:\n",
    "        action_lists = get_low_level_actions(traj_dict, unique)[0]\n",
    "    else:\n",
    "        action_lists = get_high_level_actions(traj_dict)\n",
    "    return [(trial_id, action) for action in action_lists]"
   ]
  },
  {
   "cell_type": "code",
   "execution_count": 20,
   "metadata": {},
   "outputs": [],
   "source": [
    "'''\n",
    "calculate statistical information\n",
    "'''\n",
    "\n",
    "def get_pair_frequency(pair_list, normalize = True):\n",
    "    '''\n",
    "    convert a list of term paris to a 2-d matrix\n",
    "    input: [(t1, t2), (t1, t3), (t2, t3)]\n",
    "    output: matrix, key list, value list\n",
    "           t2, t3\n",
    "        t1 0.5 0.5\n",
    "        t2 0   0.5\n",
    "        [t1, t2]\n",
    "        [t2, t3]\n",
    "    '''\n",
    "\n",
    "    all_keys = list(set(list([pair[0] for pair in pair_list])))\n",
    "    all_values = list(set(list([pair[1] for pair in pair_list])))\n",
    "    all_keys.sort()\n",
    "    all_values.sort()\n",
    "    freq_matrix = np.zeros([len(all_keys), len(all_values)])\n",
    "    count_dict = collections.Counter(pair_list)\n",
    "    def fill_matrix(indexs):\n",
    "        i_key, i_value = indexs\n",
    "        pair = (all_keys[i_key], all_values[i_value])\n",
    "        freq_matrix[i_key][i_value] = count_dict.get(pair, 0)\n",
    "    list(map(lambda x:fill_matrix(x), [(i_key, i_value) for i_key in range(len(all_keys)) for i_value in range(len(all_values))]))\n",
    "    if normalize:\n",
    "        freq_matrix = freq_matrix/(np.sum(freq_matrix, axis=1, keepdims=True)+1e-7)\n",
    "    return freq_matrix, all_keys, all_values\n",
    "\n",
    "def get_frequency(name_list, normalize=True):\n",
    "    '''\n",
    "    convert a list of terms to a vector representing the frequency\n",
    "    input: (t1, t2, t3, t1)\n",
    "    output: (0.5, 0.25, 0.25), [t1, t2, t3]\n",
    "    '''\n",
    "    count_dict = collections.Counter(name_list)\n",
    "    keys = list(count_dict.keys())\n",
    "    keys.sort()\n",
    "    frequency_vector = np.array([count_dict[key] for key in keys])\n",
    "    if normalize:\n",
    "        frequency_vector = frequency_vector/(np.sum(frequency_vector, keepdims=True)+1e-7)\n",
    "    return frequency_vector, keys"
   ]
  },
  {
   "cell_type": "code",
   "execution_count": 7,
   "metadata": {},
   "outputs": [],
   "source": [
    "filepaths_dict = get_filepath_dict()\n",
    "train_paths = filepaths_dict['train']\n",
    "val_seen_paths = filepaths_dict['valid_seen']\n",
    "val_unseen_paths = filepaths_dict['valid_unseen']"
   ]
  },
  {
   "cell_type": "code",
   "execution_count": 8,
   "metadata": {},
   "outputs": [],
   "source": [
    "import spacy\n",
    "\n",
    "nlp = spacy.load(\"en_core_web_sm\")\n",
    "\n",
    "def get_instructions_verbs(text):\n",
    "    verbs = []\n",
    "    # if type(text) == str:\n",
    "    #     text = nlp(text)\n",
    "    for tok in text:\n",
    "        if tok.pos_ == \"VERB\":\n",
    "            verbs.append(tok.lemma_)\n",
    "    return verbs\n",
    "\n",
    "def get_instructions_nouns(text):\n",
    "    nouns = []\n",
    "    # if type(text) == str:\n",
    "    #     text = nlp(text)\n",
    "    for tok in text:\n",
    "        if tok.pos_ == \"NOUN\":\n",
    "            nouns.append(tok.lemma_)\n",
    "    return nouns"
   ]
  },
  {
   "cell_type": "code",
   "execution_count": 13,
   "metadata": {},
   "outputs": [],
   "source": [
    "train_traj_list = load_json_all(train_paths)\n",
    "val_seen_traj_list = load_json_all(val_seen_paths)\n",
    "val_unseen_traj_list = load_json_all(val_unseen_paths)"
   ]
  },
  {
   "cell_type": "code",
   "execution_count": 58,
   "metadata": {},
   "outputs": [],
   "source": [
    "train_instructions = {'detail':[get_instructions(elt)[0] for elt in train_traj_list], 'task':[get_instructions(elt)[1] for elt in train_traj_list]}\n",
    "val_seen_instructions = {'detail':[get_instructions(elt)[0] for elt in val_seen_traj_list], 'task':[get_instructions(elt)[1] for elt in val_seen_traj_list]}\n",
    "val_unseen_instructins = {'detail':[get_instructions(elt)[0] for elt in val_unseen_traj_list], 'task':[get_instructions(elt)[1] for elt in val_unseen_traj_list]}\n",
    " "
   ]
  },
  {
   "cell_type": "code",
   "execution_count": 61,
   "metadata": {},
   "outputs": [
    {
     "output_type": "stream",
     "name": "stderr",
     "text": [
      "100%|██████████| 6574/6574 [04:25<00:00, 24.75it/s]\n",
      "100%|██████████| 6574/6574 [02:07<00:00, 51.68it/s]\n",
      "100%|██████████| 251/251 [00:11<00:00, 22.68it/s]\n",
      "100%|██████████| 251/251 [00:04<00:00, 57.84it/s]\n",
      "100%|██████████| 255/255 [00:09<00:00, 26.51it/s]\n",
      "100%|██████████| 255/255 [00:05<00:00, 50.36it/s]\n"
     ]
    }
   ],
   "source": [
    "def apply_spacy(e):\n",
    "    if type(e) == list:\n",
    "        return nlp(' '.join(e))\n",
    "    else:\n",
    "        return nlp(e)\n",
    "\n",
    "from tqdm import tqdm \n",
    "def unpack_sets(d):\n",
    "    new_d = dict()\n",
    "    for k in d:\n",
    "        new_d[k] = d[k]\n",
    "        l = []\n",
    "        v = []\n",
    "        n = []\n",
    "        for sets in tqdm(d[k]):\n",
    "            for set in sets:\n",
    "                doc = apply_spacy(set)\n",
    "                l.append(doc)\n",
    "                v.append(get_instructions_verbs(doc))\n",
    "                n.append(get_instructions_nouns(doc))\n",
    "        new_d[k+'_unpack'] = l\n",
    "        new_d[k+'_verbs'] = v\n",
    "        new_d[k+'_nouns'] = n\n",
    "    return new_d\n",
    "train_instructions = unpack_sets(train_instructions)\n",
    "val_seen_instructions = unpack_sets(val_seen_instructions)\n",
    "val_unseen_instructins = unpack_sets(val_unseen_instructins)"
   ]
  },
  {
   "cell_type": "code",
   "execution_count": 79,
   "metadata": {},
   "outputs": [],
   "source": [
    "val_unseen_instructions = val_unseen_instructins"
   ]
  },
  {
   "cell_type": "code",
   "execution_count": 69,
   "metadata": {},
   "outputs": [],
   "source": [
    "def get_statistics(l):\n",
    "    return {'mean':np.average(l), 'std':np.std(l), 'min':np.min(l), 'max':np.max(l)}\n",
    "    \n",
    "def get_split_statistics(train, val1, val2, column):\n",
    "    train_stats = get_statistics([len(elt) for elt in train[column]])\n",
    "    val_seen_stats = get_statistics([len(elt) for elt in val1[column]])\n",
    "    val_unseen_stats = get_statistics([len(elt) for elt in val2[column]])\n",
    "    print(pd.DataFrame([{\n",
    "            'split':'train',\n",
    "            **train_stats\n",
    "        }, {\n",
    "            'split':'val seen',\n",
    "            **val_seen_stats\n",
    "        }, {\n",
    "            'split':'val unseen',\n",
    "            **val_unseen_stats\n",
    "        }]).to_latex(index=False, float_format=\"{:0.2f}\".format))\n"
   ]
  },
  {
   "cell_type": "code",
   "execution_count": 73,
   "metadata": {},
   "outputs": [
    {
     "output_type": "stream",
     "name": "stdout",
     "text": [
      "\\begin{tabular}{lrrrr}\n\\toprule\n     split &  mean &  std &  min &  max \\\\\n\\midrule\n     train & 13.13 & 6.81 &    1 &   68 \\\\\n  val seen & 12.98 & 7.31 &    2 &   53 \\\\\nval unseen & 12.98 & 7.31 &    2 &   53 \\\\\n\\bottomrule\n\\end{tabular}\n\n"
     ]
    }
   ],
   "source": [
    "get_split_statistics(train_instructions, val_seen_instructions, val_seen_instructions, 'detail_verbs')"
   ]
  },
  {
   "cell_type": "code",
   "execution_count": 81,
   "metadata": {},
   "outputs": [
    {
     "output_type": "stream",
     "name": "stdout",
     "text": [
      "Put the CD into the white safe\n['put']\nPut the CD into the white safe\n['put']\nThe ro\n[]\nThe ro\n[]\n"
     ]
    }
   ],
   "source": [
    "data_split = val_seen_instructions\n",
    "data_split = val_unseen_instructions\n",
    "data_split = train_instructions\n",
    "\n",
    "for i in range(len(data_split['task_nouns'])):\n",
    "    elt = data_split['task_nouns'][i]\n",
    "    if len(elt) == 0:\n",
    "        print(data_split['task_unpack'][i])\n",
    "        print(data_split['task_verbs'][i])"
   ]
  },
  {
   "cell_type": "code",
   "execution_count": 87,
   "metadata": {},
   "outputs": [],
   "source": [
    "def flatten(l):\n",
    "    new_l = []\n",
    "    for elt in l:\n",
    "        new_l += elt\n",
    "    return new_l\n",
    "\n",
    "def apply_flatten(d):\n",
    "    d['task_nouns_flatten'] = flatten(d['task_nouns'])\n",
    "    d['detail_nouns_flatten'] = flatten(d['detail_nouns'])\n",
    "    d['task_verbs_flatten'] = flatten(d['task_verbs'])\n",
    "    d['detail_verbs_flatten'] = flatten(d['detail_verbs'])\n",
    "    \n",
    "apply_flatten(train_instructions)\n",
    "apply_flatten(val_seen_instructions)\n",
    "apply_flatten(val_unseen_instructions)"
   ]
  },
  {
   "cell_type": "code",
   "execution_count": 112,
   "metadata": {},
   "outputs": [
    {
     "output_type": "execute_result",
     "data": {
      "text/plain": [
       "<AxesSubplot:>"
      ]
     },
     "metadata": {},
     "execution_count": 112
    },
    {
     "output_type": "display_data",
     "data": {
      "text/plain": "<Figure size 432x288 with 1 Axes>",
      "image/svg+xml": "<?xml version=\"1.0\" encoding=\"utf-8\" standalone=\"no\"?>\n<!DOCTYPE svg PUBLIC \"-//W3C//DTD SVG 1.1//EN\"\n  \"http://www.w3.org/Graphics/SVG/1.1/DTD/svg11.dtd\">\n<!-- Created with matplotlib (https://matplotlib.org/) -->\n<svg height=\"248.518125pt\" version=\"1.1\" viewBox=\"0 0 378.465625 248.518125\" width=\"378.465625pt\" xmlns=\"http://www.w3.org/2000/svg\" xmlns:xlink=\"http://www.w3.org/1999/xlink\">\n <metadata>\n  <rdf:RDF xmlns:cc=\"http://creativecommons.org/ns#\" xmlns:dc=\"http://purl.org/dc/elements/1.1/\" xmlns:rdf=\"http://www.w3.org/1999/02/22-rdf-syntax-ns#\">\n   <cc:Work>\n    <dc:type rdf:resource=\"http://purl.org/dc/dcmitype/StillImage\"/>\n    <dc:date>2021-03-04T20:47:26.576865</dc:date>\n    <dc:format>image/svg+xml</dc:format>\n    <dc:creator>\n     <cc:Agent>\n      <dc:title>Matplotlib v3.3.4, https://matplotlib.org/</dc:title>\n     </cc:Agent>\n    </dc:creator>\n   </cc:Work>\n  </rdf:RDF>\n </metadata>\n <defs>\n  <style type=\"text/css\">*{stroke-linecap:butt;stroke-linejoin:round;}</style>\n </defs>\n <g id=\"figure_1\">\n  <g id=\"patch_1\">\n   <path d=\"M 0 248.518125 \nL 378.465625 248.518125 \nL 378.465625 0 \nL 0 0 \nz\n\" style=\"fill:none;\"/>\n  </g>\n  <g id=\"axes_1\">\n   <g id=\"patch_2\">\n    <path d=\"M 36.465625 224.64 \nL 371.265625 224.64 \nL 371.265625 7.2 \nL 36.465625 7.2 \nz\n\" style=\"fill:#ffffff;\"/>\n   </g>\n   <g id=\"matplotlib.axis_1\">\n    <g id=\"xtick_1\">\n     <g id=\"line2d_1\">\n      <defs>\n       <path d=\"M 0 0 \nL 0 3.5 \n\" id=\"m551a842db2\" style=\"stroke:#000000;stroke-width:0.8;\"/>\n      </defs>\n      <g>\n       <use style=\"stroke:#000000;stroke-width:0.8;\" x=\"51.683807\" xlink:href=\"#m551a842db2\" y=\"224.64\"/>\n      </g>\n     </g>\n     <g id=\"text_1\">\n      <!-- turn -->\n      <g transform=\"translate(41.418182 239.238438)scale(0.1 -0.1)\">\n       <defs>\n        <path d=\"M 18.3125 70.21875 \nL 18.3125 54.6875 \nL 36.8125 54.6875 \nL 36.8125 47.703125 \nL 18.3125 47.703125 \nL 18.3125 18.015625 \nQ 18.3125 11.328125 20.140625 9.421875 \nQ 21.96875 7.515625 27.59375 7.515625 \nL 36.8125 7.515625 \nL 36.8125 0 \nL 27.59375 0 \nQ 17.1875 0 13.234375 3.875 \nQ 9.28125 7.765625 9.28125 18.015625 \nL 9.28125 47.703125 \nL 2.6875 47.703125 \nL 2.6875 54.6875 \nL 9.28125 54.6875 \nL 9.28125 70.21875 \nz\n\" id=\"DejaVuSans-116\"/>\n        <path d=\"M 8.5 21.578125 \nL 8.5 54.6875 \nL 17.484375 54.6875 \nL 17.484375 21.921875 \nQ 17.484375 14.15625 20.5 10.265625 \nQ 23.53125 6.390625 29.59375 6.390625 \nQ 36.859375 6.390625 41.078125 11.03125 \nQ 45.3125 15.671875 45.3125 23.6875 \nL 45.3125 54.6875 \nL 54.296875 54.6875 \nL 54.296875 0 \nL 45.3125 0 \nL 45.3125 8.40625 \nQ 42.046875 3.421875 37.71875 1 \nQ 33.40625 -1.421875 27.6875 -1.421875 \nQ 18.265625 -1.421875 13.375 4.4375 \nQ 8.5 10.296875 8.5 21.578125 \nz\nM 31.109375 56 \nz\n\" id=\"DejaVuSans-117\"/>\n        <path d=\"M 41.109375 46.296875 \nQ 39.59375 47.171875 37.8125 47.578125 \nQ 36.03125 48 33.890625 48 \nQ 26.265625 48 22.1875 43.046875 \nQ 18.109375 38.09375 18.109375 28.8125 \nL 18.109375 0 \nL 9.078125 0 \nL 9.078125 54.6875 \nL 18.109375 54.6875 \nL 18.109375 46.1875 \nQ 20.953125 51.171875 25.484375 53.578125 \nQ 30.03125 56 36.53125 56 \nQ 37.453125 56 38.578125 55.875 \nQ 39.703125 55.765625 41.0625 55.515625 \nz\n\" id=\"DejaVuSans-114\"/>\n        <path d=\"M 54.890625 33.015625 \nL 54.890625 0 \nL 45.90625 0 \nL 45.90625 32.71875 \nQ 45.90625 40.484375 42.875 44.328125 \nQ 39.84375 48.1875 33.796875 48.1875 \nQ 26.515625 48.1875 22.3125 43.546875 \nQ 18.109375 38.921875 18.109375 30.90625 \nL 18.109375 0 \nL 9.078125 0 \nL 9.078125 54.6875 \nL 18.109375 54.6875 \nL 18.109375 46.1875 \nQ 21.34375 51.125 25.703125 53.5625 \nQ 30.078125 56 35.796875 56 \nQ 45.21875 56 50.046875 50.171875 \nQ 54.890625 44.34375 54.890625 33.015625 \nz\n\" id=\"DejaVuSans-110\"/>\n       </defs>\n       <use xlink:href=\"#DejaVuSans-116\"/>\n       <use x=\"39.208984\" xlink:href=\"#DejaVuSans-117\"/>\n       <use x=\"102.587891\" xlink:href=\"#DejaVuSans-114\"/>\n       <use x=\"141.951172\" xlink:href=\"#DejaVuSans-110\"/>\n      </g>\n     </g>\n    </g>\n    <g id=\"xtick_2\">\n     <g id=\"line2d_2\">\n      <g>\n       <use style=\"stroke:#000000;stroke-width:0.8;\" x=\"90.805097\" xlink:href=\"#m551a842db2\" y=\"224.64\"/>\n      </g>\n     </g>\n     <g id=\"text_2\">\n      <!-- veer -->\n      <g transform=\"translate(79.637128 239.238438)scale(0.1 -0.1)\">\n       <defs>\n        <path d=\"M 2.984375 54.6875 \nL 12.5 54.6875 \nL 29.59375 8.796875 \nL 46.6875 54.6875 \nL 56.203125 54.6875 \nL 35.6875 0 \nL 23.484375 0 \nz\n\" id=\"DejaVuSans-118\"/>\n        <path d=\"M 56.203125 29.59375 \nL 56.203125 25.203125 \nL 14.890625 25.203125 \nQ 15.484375 15.921875 20.484375 11.0625 \nQ 25.484375 6.203125 34.421875 6.203125 \nQ 39.59375 6.203125 44.453125 7.46875 \nQ 49.3125 8.734375 54.109375 11.28125 \nL 54.109375 2.78125 \nQ 49.265625 0.734375 44.1875 -0.34375 \nQ 39.109375 -1.421875 33.890625 -1.421875 \nQ 20.796875 -1.421875 13.15625 6.1875 \nQ 5.515625 13.8125 5.515625 26.8125 \nQ 5.515625 40.234375 12.765625 48.109375 \nQ 20.015625 56 32.328125 56 \nQ 43.359375 56 49.78125 48.890625 \nQ 56.203125 41.796875 56.203125 29.59375 \nz\nM 47.21875 32.234375 \nQ 47.125 39.59375 43.09375 43.984375 \nQ 39.0625 48.390625 32.421875 48.390625 \nQ 24.90625 48.390625 20.390625 44.140625 \nQ 15.875 39.890625 15.1875 32.171875 \nz\n\" id=\"DejaVuSans-101\"/>\n       </defs>\n       <use xlink:href=\"#DejaVuSans-118\"/>\n       <use x=\"59.179688\" xlink:href=\"#DejaVuSans-101\"/>\n       <use x=\"120.703125\" xlink:href=\"#DejaVuSans-101\"/>\n       <use x=\"182.226562\" xlink:href=\"#DejaVuSans-114\"/>\n      </g>\n     </g>\n    </g>\n    <g id=\"xtick_3\">\n     <g id=\"line2d_3\">\n      <g>\n       <use style=\"stroke:#000000;stroke-width:0.8;\" x=\"129.926387\" xlink:href=\"#m551a842db2\" y=\"224.64\"/>\n      </g>\n     </g>\n     <g id=\"text_3\">\n      <!-- stick -->\n      <g transform=\"translate(118.327949 239.238438)scale(0.1 -0.1)\">\n       <defs>\n        <path d=\"M 44.28125 53.078125 \nL 44.28125 44.578125 \nQ 40.484375 46.53125 36.375 47.5 \nQ 32.28125 48.484375 27.875 48.484375 \nQ 21.1875 48.484375 17.84375 46.4375 \nQ 14.5 44.390625 14.5 40.28125 \nQ 14.5 37.15625 16.890625 35.375 \nQ 19.28125 33.59375 26.515625 31.984375 \nL 29.59375 31.296875 \nQ 39.15625 29.25 43.1875 25.515625 \nQ 47.21875 21.78125 47.21875 15.09375 \nQ 47.21875 7.46875 41.1875 3.015625 \nQ 35.15625 -1.421875 24.609375 -1.421875 \nQ 20.21875 -1.421875 15.453125 -0.5625 \nQ 10.6875 0.296875 5.421875 2 \nL 5.421875 11.28125 \nQ 10.40625 8.6875 15.234375 7.390625 \nQ 20.0625 6.109375 24.8125 6.109375 \nQ 31.15625 6.109375 34.5625 8.28125 \nQ 37.984375 10.453125 37.984375 14.40625 \nQ 37.984375 18.0625 35.515625 20.015625 \nQ 33.0625 21.96875 24.703125 23.78125 \nL 21.578125 24.515625 \nQ 13.234375 26.265625 9.515625 29.90625 \nQ 5.8125 33.546875 5.8125 39.890625 \nQ 5.8125 47.609375 11.28125 51.796875 \nQ 16.75 56 26.8125 56 \nQ 31.78125 56 36.171875 55.265625 \nQ 40.578125 54.546875 44.28125 53.078125 \nz\n\" id=\"DejaVuSans-115\"/>\n        <path d=\"M 9.421875 54.6875 \nL 18.40625 54.6875 \nL 18.40625 0 \nL 9.421875 0 \nz\nM 9.421875 75.984375 \nL 18.40625 75.984375 \nL 18.40625 64.59375 \nL 9.421875 64.59375 \nz\n\" id=\"DejaVuSans-105\"/>\n        <path d=\"M 48.78125 52.59375 \nL 48.78125 44.1875 \nQ 44.96875 46.296875 41.140625 47.34375 \nQ 37.3125 48.390625 33.40625 48.390625 \nQ 24.65625 48.390625 19.8125 42.84375 \nQ 14.984375 37.3125 14.984375 27.296875 \nQ 14.984375 17.28125 19.8125 11.734375 \nQ 24.65625 6.203125 33.40625 6.203125 \nQ 37.3125 6.203125 41.140625 7.25 \nQ 44.96875 8.296875 48.78125 10.40625 \nL 48.78125 2.09375 \nQ 45.015625 0.34375 40.984375 -0.53125 \nQ 36.96875 -1.421875 32.421875 -1.421875 \nQ 20.0625 -1.421875 12.78125 6.34375 \nQ 5.515625 14.109375 5.515625 27.296875 \nQ 5.515625 40.671875 12.859375 48.328125 \nQ 20.21875 56 33.015625 56 \nQ 37.15625 56 41.109375 55.140625 \nQ 45.0625 54.296875 48.78125 52.59375 \nz\n\" id=\"DejaVuSans-99\"/>\n        <path d=\"M 9.078125 75.984375 \nL 18.109375 75.984375 \nL 18.109375 31.109375 \nL 44.921875 54.6875 \nL 56.390625 54.6875 \nL 27.390625 29.109375 \nL 57.625 0 \nL 45.90625 0 \nL 18.109375 26.703125 \nL 18.109375 0 \nL 9.078125 0 \nz\n\" id=\"DejaVuSans-107\"/>\n       </defs>\n       <use xlink:href=\"#DejaVuSans-115\"/>\n       <use x=\"52.099609\" xlink:href=\"#DejaVuSans-116\"/>\n       <use x=\"91.308594\" xlink:href=\"#DejaVuSans-105\"/>\n       <use x=\"119.091797\" xlink:href=\"#DejaVuSans-99\"/>\n       <use x=\"174.072266\" xlink:href=\"#DejaVuSans-107\"/>\n      </g>\n     </g>\n    </g>\n    <g id=\"xtick_4\">\n     <g id=\"line2d_4\">\n      <g>\n       <use style=\"stroke:#000000;stroke-width:0.8;\" x=\"169.047677\" xlink:href=\"#m551a842db2\" y=\"224.64\"/>\n      </g>\n     </g>\n     <g id=\"text_4\">\n      <!-- knock -->\n      <g transform=\"translate(154.279708 239.238438)scale(0.1 -0.1)\">\n       <defs>\n        <path d=\"M 30.609375 48.390625 \nQ 23.390625 48.390625 19.1875 42.75 \nQ 14.984375 37.109375 14.984375 27.296875 \nQ 14.984375 17.484375 19.15625 11.84375 \nQ 23.34375 6.203125 30.609375 6.203125 \nQ 37.796875 6.203125 41.984375 11.859375 \nQ 46.1875 17.53125 46.1875 27.296875 \nQ 46.1875 37.015625 41.984375 42.703125 \nQ 37.796875 48.390625 30.609375 48.390625 \nz\nM 30.609375 56 \nQ 42.328125 56 49.015625 48.375 \nQ 55.71875 40.765625 55.71875 27.296875 \nQ 55.71875 13.875 49.015625 6.21875 \nQ 42.328125 -1.421875 30.609375 -1.421875 \nQ 18.84375 -1.421875 12.171875 6.21875 \nQ 5.515625 13.875 5.515625 27.296875 \nQ 5.515625 40.765625 12.171875 48.375 \nQ 18.84375 56 30.609375 56 \nz\n\" id=\"DejaVuSans-111\"/>\n       </defs>\n       <use xlink:href=\"#DejaVuSans-107\"/>\n       <use x=\"57.910156\" xlink:href=\"#DejaVuSans-110\"/>\n       <use x=\"121.289062\" xlink:href=\"#DejaVuSans-111\"/>\n       <use x=\"182.470703\" xlink:href=\"#DejaVuSans-99\"/>\n       <use x=\"237.451172\" xlink:href=\"#DejaVuSans-107\"/>\n      </g>\n     </g>\n    </g>\n    <g id=\"xtick_5\">\n     <g id=\"line2d_5\">\n      <g>\n       <use style=\"stroke:#000000;stroke-width:0.8;\" x=\"208.168967\" xlink:href=\"#m551a842db2\" y=\"224.64\"/>\n      </g>\n     </g>\n     <g id=\"text_5\">\n      <!-- tissue -->\n      <g transform=\"translate(193.365061 239.238438)scale(0.1 -0.1)\">\n       <use xlink:href=\"#DejaVuSans-116\"/>\n       <use x=\"39.208984\" xlink:href=\"#DejaVuSans-105\"/>\n       <use x=\"66.992188\" xlink:href=\"#DejaVuSans-115\"/>\n       <use x=\"119.091797\" xlink:href=\"#DejaVuSans-115\"/>\n       <use x=\"171.191406\" xlink:href=\"#DejaVuSans-117\"/>\n       <use x=\"234.570312\" xlink:href=\"#DejaVuSans-101\"/>\n      </g>\n     </g>\n    </g>\n    <g id=\"xtick_6\">\n     <g id=\"line2d_6\">\n      <g>\n       <use style=\"stroke:#000000;stroke-width:0.8;\" x=\"247.290257\" xlink:href=\"#m551a842db2\" y=\"224.64\"/>\n      </g>\n     </g>\n     <g id=\"text_6\">\n      <!-- narrow -->\n      <g transform=\"translate(229.998069 239.238438)scale(0.1 -0.1)\">\n       <defs>\n        <path d=\"M 34.28125 27.484375 \nQ 23.390625 27.484375 19.1875 25 \nQ 14.984375 22.515625 14.984375 16.5 \nQ 14.984375 11.71875 18.140625 8.90625 \nQ 21.296875 6.109375 26.703125 6.109375 \nQ 34.1875 6.109375 38.703125 11.40625 \nQ 43.21875 16.703125 43.21875 25.484375 \nL 43.21875 27.484375 \nz\nM 52.203125 31.203125 \nL 52.203125 0 \nL 43.21875 0 \nL 43.21875 8.296875 \nQ 40.140625 3.328125 35.546875 0.953125 \nQ 30.953125 -1.421875 24.3125 -1.421875 \nQ 15.921875 -1.421875 10.953125 3.296875 \nQ 6 8.015625 6 15.921875 \nQ 6 25.140625 12.171875 29.828125 \nQ 18.359375 34.515625 30.609375 34.515625 \nL 43.21875 34.515625 \nL 43.21875 35.40625 \nQ 43.21875 41.609375 39.140625 45 \nQ 35.0625 48.390625 27.6875 48.390625 \nQ 23 48.390625 18.546875 47.265625 \nQ 14.109375 46.140625 10.015625 43.890625 \nL 10.015625 52.203125 \nQ 14.9375 54.109375 19.578125 55.046875 \nQ 24.21875 56 28.609375 56 \nQ 40.484375 56 46.34375 49.84375 \nQ 52.203125 43.703125 52.203125 31.203125 \nz\n\" id=\"DejaVuSans-97\"/>\n        <path d=\"M 4.203125 54.6875 \nL 13.1875 54.6875 \nL 24.421875 12.015625 \nL 35.59375 54.6875 \nL 46.1875 54.6875 \nL 57.421875 12.015625 \nL 68.609375 54.6875 \nL 77.59375 54.6875 \nL 63.28125 0 \nL 52.6875 0 \nL 40.921875 44.828125 \nL 29.109375 0 \nL 18.5 0 \nz\n\" id=\"DejaVuSans-119\"/>\n       </defs>\n       <use xlink:href=\"#DejaVuSans-110\"/>\n       <use x=\"63.378906\" xlink:href=\"#DejaVuSans-97\"/>\n       <use x=\"124.658203\" xlink:href=\"#DejaVuSans-114\"/>\n       <use x=\"164.021484\" xlink:href=\"#DejaVuSans-114\"/>\n       <use x=\"202.884766\" xlink:href=\"#DejaVuSans-111\"/>\n       <use x=\"264.066406\" xlink:href=\"#DejaVuSans-119\"/>\n      </g>\n     </g>\n    </g>\n    <g id=\"xtick_7\">\n     <g id=\"line2d_7\">\n      <g>\n       <use style=\"stroke:#000000;stroke-width:0.8;\" x=\"286.411547\" xlink:href=\"#m551a842db2\" y=\"224.64\"/>\n      </g>\n     </g>\n     <g id=\"text_7\">\n      <!-- that'; -->\n      <g transform=\"translate(273.199828 239.238438)scale(0.1 -0.1)\">\n       <defs>\n        <path d=\"M 54.890625 33.015625 \nL 54.890625 0 \nL 45.90625 0 \nL 45.90625 32.71875 \nQ 45.90625 40.484375 42.875 44.328125 \nQ 39.84375 48.1875 33.796875 48.1875 \nQ 26.515625 48.1875 22.3125 43.546875 \nQ 18.109375 38.921875 18.109375 30.90625 \nL 18.109375 0 \nL 9.078125 0 \nL 9.078125 75.984375 \nL 18.109375 75.984375 \nL 18.109375 46.1875 \nQ 21.34375 51.125 25.703125 53.5625 \nQ 30.078125 56 35.796875 56 \nQ 45.21875 56 50.046875 50.171875 \nQ 54.890625 44.34375 54.890625 33.015625 \nz\n\" id=\"DejaVuSans-104\"/>\n        <path d=\"M 17.921875 72.90625 \nL 17.921875 45.796875 \nL 9.625 45.796875 \nL 9.625 72.90625 \nz\n\" id=\"DejaVuSans-39\"/>\n        <path d=\"M 11.71875 51.703125 \nL 22.015625 51.703125 \nL 22.015625 39.3125 \nL 11.71875 39.3125 \nz\nM 11.71875 12.40625 \nL 22.015625 12.40625 \nL 22.015625 4 \nL 14.015625 -11.625 \nL 7.71875 -11.625 \nL 11.71875 4 \nz\n\" id=\"DejaVuSans-59\"/>\n       </defs>\n       <use xlink:href=\"#DejaVuSans-116\"/>\n       <use x=\"39.208984\" xlink:href=\"#DejaVuSans-104\"/>\n       <use x=\"102.587891\" xlink:href=\"#DejaVuSans-97\"/>\n       <use x=\"163.867188\" xlink:href=\"#DejaVuSans-116\"/>\n       <use x=\"203.076172\" xlink:href=\"#DejaVuSans-39\"/>\n       <use x=\"230.566406\" xlink:href=\"#DejaVuSans-59\"/>\n      </g>\n     </g>\n    </g>\n    <g id=\"xtick_8\">\n     <g id=\"line2d_8\">\n      <g>\n       <use style=\"stroke:#000000;stroke-width:0.8;\" x=\"325.532837\" xlink:href=\"#m551a842db2\" y=\"224.64\"/>\n      </g>\n     </g>\n     <g id=\"text_8\">\n      <!-- rotate -->\n      <g transform=\"translate(310.469556 239.238438)scale(0.1 -0.1)\">\n       <use xlink:href=\"#DejaVuSans-114\"/>\n       <use x=\"38.863281\" xlink:href=\"#DejaVuSans-111\"/>\n       <use x=\"100.044922\" xlink:href=\"#DejaVuSans-116\"/>\n       <use x=\"139.253906\" xlink:href=\"#DejaVuSans-97\"/>\n       <use x=\"200.533203\" xlink:href=\"#DejaVuSans-116\"/>\n       <use x=\"239.742188\" xlink:href=\"#DejaVuSans-101\"/>\n      </g>\n     </g>\n    </g>\n    <g id=\"xtick_9\">\n     <g id=\"line2d_9\">\n      <g>\n       <use style=\"stroke:#000000;stroke-width:0.8;\" x=\"364.654127\" xlink:href=\"#m551a842db2\" y=\"224.64\"/>\n      </g>\n     </g>\n    </g>\n   </g>\n   <g id=\"matplotlib.axis_2\">\n    <g id=\"ytick_1\">\n     <g id=\"line2d_10\">\n      <defs>\n       <path d=\"M 0 0 \nL -3.5 0 \n\" id=\"m9816aafd97\" style=\"stroke:#000000;stroke-width:0.8;\"/>\n      </defs>\n      <g>\n       <use style=\"stroke:#000000;stroke-width:0.8;\" x=\"36.465625\" xlink:href=\"#m9816aafd97\" y=\"214.759464\"/>\n      </g>\n     </g>\n     <g id=\"text_9\">\n      <!-- 0.00 -->\n      <g transform=\"translate(7.2 218.558682)scale(0.1 -0.1)\">\n       <defs>\n        <path d=\"M 31.78125 66.40625 \nQ 24.171875 66.40625 20.328125 58.90625 \nQ 16.5 51.421875 16.5 36.375 \nQ 16.5 21.390625 20.328125 13.890625 \nQ 24.171875 6.390625 31.78125 6.390625 \nQ 39.453125 6.390625 43.28125 13.890625 \nQ 47.125 21.390625 47.125 36.375 \nQ 47.125 51.421875 43.28125 58.90625 \nQ 39.453125 66.40625 31.78125 66.40625 \nz\nM 31.78125 74.21875 \nQ 44.046875 74.21875 50.515625 64.515625 \nQ 56.984375 54.828125 56.984375 36.375 \nQ 56.984375 17.96875 50.515625 8.265625 \nQ 44.046875 -1.421875 31.78125 -1.421875 \nQ 19.53125 -1.421875 13.0625 8.265625 \nQ 6.59375 17.96875 6.59375 36.375 \nQ 6.59375 54.828125 13.0625 64.515625 \nQ 19.53125 74.21875 31.78125 74.21875 \nz\n\" id=\"DejaVuSans-48\"/>\n        <path d=\"M 10.6875 12.40625 \nL 21 12.40625 \nL 21 0 \nL 10.6875 0 \nz\n\" id=\"DejaVuSans-46\"/>\n       </defs>\n       <use xlink:href=\"#DejaVuSans-48\"/>\n       <use x=\"63.623047\" xlink:href=\"#DejaVuSans-46\"/>\n       <use x=\"95.410156\" xlink:href=\"#DejaVuSans-48\"/>\n       <use x=\"159.033203\" xlink:href=\"#DejaVuSans-48\"/>\n      </g>\n     </g>\n    </g>\n    <g id=\"ytick_2\">\n     <g id=\"line2d_11\">\n      <g>\n       <use style=\"stroke:#000000;stroke-width:0.8;\" x=\"36.465625\" xlink:href=\"#m9816aafd97\" y=\"171.978888\"/>\n      </g>\n     </g>\n     <g id=\"text_10\">\n      <!-- 0.05 -->\n      <g transform=\"translate(7.2 175.778107)scale(0.1 -0.1)\">\n       <defs>\n        <path d=\"M 10.796875 72.90625 \nL 49.515625 72.90625 \nL 49.515625 64.59375 \nL 19.828125 64.59375 \nL 19.828125 46.734375 \nQ 21.96875 47.46875 24.109375 47.828125 \nQ 26.265625 48.1875 28.421875 48.1875 \nQ 40.625 48.1875 47.75 41.5 \nQ 54.890625 34.8125 54.890625 23.390625 \nQ 54.890625 11.625 47.5625 5.09375 \nQ 40.234375 -1.421875 26.90625 -1.421875 \nQ 22.3125 -1.421875 17.546875 -0.640625 \nQ 12.796875 0.140625 7.71875 1.703125 \nL 7.71875 11.625 \nQ 12.109375 9.234375 16.796875 8.0625 \nQ 21.484375 6.890625 26.703125 6.890625 \nQ 35.15625 6.890625 40.078125 11.328125 \nQ 45.015625 15.765625 45.015625 23.390625 \nQ 45.015625 31 40.078125 35.4375 \nQ 35.15625 39.890625 26.703125 39.890625 \nQ 22.75 39.890625 18.8125 39.015625 \nQ 14.890625 38.140625 10.796875 36.28125 \nz\n\" id=\"DejaVuSans-53\"/>\n       </defs>\n       <use xlink:href=\"#DejaVuSans-48\"/>\n       <use x=\"63.623047\" xlink:href=\"#DejaVuSans-46\"/>\n       <use x=\"95.410156\" xlink:href=\"#DejaVuSans-48\"/>\n       <use x=\"159.033203\" xlink:href=\"#DejaVuSans-53\"/>\n      </g>\n     </g>\n    </g>\n    <g id=\"ytick_3\">\n     <g id=\"line2d_12\">\n      <g>\n       <use style=\"stroke:#000000;stroke-width:0.8;\" x=\"36.465625\" xlink:href=\"#m9816aafd97\" y=\"129.198312\"/>\n      </g>\n     </g>\n     <g id=\"text_11\">\n      <!-- 0.10 -->\n      <g transform=\"translate(7.2 132.997531)scale(0.1 -0.1)\">\n       <defs>\n        <path d=\"M 12.40625 8.296875 \nL 28.515625 8.296875 \nL 28.515625 63.921875 \nL 10.984375 60.40625 \nL 10.984375 69.390625 \nL 28.421875 72.90625 \nL 38.28125 72.90625 \nL 38.28125 8.296875 \nL 54.390625 8.296875 \nL 54.390625 0 \nL 12.40625 0 \nz\n\" id=\"DejaVuSans-49\"/>\n       </defs>\n       <use xlink:href=\"#DejaVuSans-48\"/>\n       <use x=\"63.623047\" xlink:href=\"#DejaVuSans-46\"/>\n       <use x=\"95.410156\" xlink:href=\"#DejaVuSans-49\"/>\n       <use x=\"159.033203\" xlink:href=\"#DejaVuSans-48\"/>\n      </g>\n     </g>\n    </g>\n    <g id=\"ytick_4\">\n     <g id=\"line2d_13\">\n      <g>\n       <use style=\"stroke:#000000;stroke-width:0.8;\" x=\"36.465625\" xlink:href=\"#m9816aafd97\" y=\"86.417737\"/>\n      </g>\n     </g>\n     <g id=\"text_12\">\n      <!-- 0.15 -->\n      <g transform=\"translate(7.2 90.216956)scale(0.1 -0.1)\">\n       <use xlink:href=\"#DejaVuSans-48\"/>\n       <use x=\"63.623047\" xlink:href=\"#DejaVuSans-46\"/>\n       <use x=\"95.410156\" xlink:href=\"#DejaVuSans-49\"/>\n       <use x=\"159.033203\" xlink:href=\"#DejaVuSans-53\"/>\n      </g>\n     </g>\n    </g>\n    <g id=\"ytick_5\">\n     <g id=\"line2d_14\">\n      <g>\n       <use style=\"stroke:#000000;stroke-width:0.8;\" x=\"36.465625\" xlink:href=\"#m9816aafd97\" y=\"43.637161\"/>\n      </g>\n     </g>\n     <g id=\"text_13\">\n      <!-- 0.20 -->\n      <g transform=\"translate(7.2 47.43638)scale(0.1 -0.1)\">\n       <defs>\n        <path d=\"M 19.1875 8.296875 \nL 53.609375 8.296875 \nL 53.609375 0 \nL 7.328125 0 \nL 7.328125 8.296875 \nQ 12.9375 14.109375 22.625 23.890625 \nQ 32.328125 33.6875 34.8125 36.53125 \nQ 39.546875 41.84375 41.421875 45.53125 \nQ 43.3125 49.21875 43.3125 52.78125 \nQ 43.3125 58.59375 39.234375 62.25 \nQ 35.15625 65.921875 28.609375 65.921875 \nQ 23.96875 65.921875 18.8125 64.3125 \nQ 13.671875 62.703125 7.8125 59.421875 \nL 7.8125 69.390625 \nQ 13.765625 71.78125 18.9375 73 \nQ 24.125 74.21875 28.421875 74.21875 \nQ 39.75 74.21875 46.484375 68.546875 \nQ 53.21875 62.890625 53.21875 53.421875 \nQ 53.21875 48.921875 51.53125 44.890625 \nQ 49.859375 40.875 45.40625 35.40625 \nQ 44.1875 33.984375 37.640625 27.21875 \nQ 31.109375 20.453125 19.1875 8.296875 \nz\n\" id=\"DejaVuSans-50\"/>\n       </defs>\n       <use xlink:href=\"#DejaVuSans-48\"/>\n       <use x=\"63.623047\" xlink:href=\"#DejaVuSans-46\"/>\n       <use x=\"95.410156\" xlink:href=\"#DejaVuSans-50\"/>\n       <use x=\"159.033203\" xlink:href=\"#DejaVuSans-48\"/>\n      </g>\n     </g>\n    </g>\n   </g>\n   <g id=\"line2d_15\">\n    <path clip-path=\"url(#pc28b0ea42f)\" d=\"M 51.683807 17.083636 \nL 52.466233 123.600298 \nL 53.248658 133.805561 \nL 54.031084 155.948999 \nL 54.81351 158.763816 \nL 55.595936 158.797916 \nL 56.378362 164.117549 \nL 57.160787 180.153949 \nL 57.943213 181.719459 \nL 58.725639 190.405712 \nL 59.508065 194.755039 \nL 60.290491 196.137648 \nL 61.072916 198.03796 \nL 61.855342 207.111716 \nL 62.637768 207.979722 \nL 63.420194 208.171923 \nL 64.20262 208.671026 \nL 64.985045 208.776427 \nL 65.767471 209.814933 \nL 66.549897 210.261336 \nL 67.332323 210.537237 \nL 68.114749 210.686038 \nL 68.897174 211.163441 \nL 72.026878 211.724545 \nL 72.809303 212.316648 \nL 73.591729 212.691751 \nL 75.939007 212.787851 \nL 77.503858 212.871552 \nL 79.06871 212.998653 \nL 79.851136 213.014153 \nL 80.633561 213.308655 \nL 81.415987 213.373755 \nL 82.980839 213.646557 \nL 83.763265 213.658957 \nL 84.54569 213.851158 \nL 90.022671 213.981359 \nL 94.717226 214.20146 \nL 97.064503 214.313061 \nL 104.106335 214.443262 \nL 153.399161 214.728463 \nL 356.047443 214.756364 \nL 356.047443 214.756364 \n\" style=\"fill:none;stroke:#1f77b4;stroke-linecap:square;stroke-width:1.5;\"/>\n   </g>\n   <g id=\"patch_3\">\n    <path d=\"M 36.465625 224.64 \nL 36.465625 7.2 \n\" style=\"fill:none;stroke:#000000;stroke-linecap:square;stroke-linejoin:miter;stroke-width:0.8;\"/>\n   </g>\n   <g id=\"patch_4\">\n    <path d=\"M 371.265625 224.64 \nL 371.265625 7.2 \n\" style=\"fill:none;stroke:#000000;stroke-linecap:square;stroke-linejoin:miter;stroke-width:0.8;\"/>\n   </g>\n   <g id=\"patch_5\">\n    <path d=\"M 36.465625 224.64 \nL 371.265625 224.64 \n\" style=\"fill:none;stroke:#000000;stroke-linecap:square;stroke-linejoin:miter;stroke-width:0.8;\"/>\n   </g>\n   <g id=\"patch_6\">\n    <path d=\"M 36.465625 7.2 \nL 371.265625 7.2 \n\" style=\"fill:none;stroke:#000000;stroke-linecap:square;stroke-linejoin:miter;stroke-width:0.8;\"/>\n   </g>\n  </g>\n </g>\n <defs>\n  <clipPath id=\"pc28b0ea42f\">\n   <rect height=\"217.44\" width=\"334.8\" x=\"36.465625\" y=\"7.2\"/>\n  </clipPath>\n </defs>\n</svg>\n",
      "image/png": "[encoded data removed]"
     },
     "metadata": {
      "needs_background": "light"
     }
    }
   ],
   "source": [
    "data_split = train_instructions\n",
    "pd.Series(train_instructions['detail_verbs_flatten']).value_counts(normalize=True).plot(kind='line')\n",
    "# pd.Series(train_instructions['detail_nouns_flatten']).value_counts(normalize=True).plot(kind='line')\n"
   ]
  },
  {
   "cell_type": "code",
   "execution_count": 118,
   "metadata": {},
   "outputs": [
    {
     "output_type": "stream",
     "name": "stdout",
     "text": [
      "0.00028376844494892167\n"
     ]
    }
   ],
   "source": [
    "train_verbs = set(train_instructions['detail_verbs_flatten']) \n",
    "print(sum([verb not in train_verbs for verb in val_seen_instructions['detail_verbs_flatten'] + val_unseen_instructions['detail_verbs_flatten']])/len(val_seen_instructions['detail_verbs_flatten'] + val_unseen_instructions['detail_verbs_flatten']))"
   ]
  },
  {
   "cell_type": "code",
   "execution_count": 119,
   "metadata": {},
   "outputs": [
    {
     "output_type": "stream",
     "name": "stdout",
     "text": [
      "0.0006951466127401415\n"
     ]
    }
   ],
   "source": [
    "train_verbs = set(train_instructions['detail_nouns_flatten']) \n",
    "print(sum([verb not in train_verbs for verb in val_seen_instructions['detail_nouns_flatten'] + val_unseen_instructions['detail_nouns_flatten']])/len(val_seen_instructions['detail_nouns_flatten'] + val_unseen_instructions['detail_nouns_flatten']))"
   ]
  },
  {
   "cell_type": "code",
   "execution_count": 11,
   "metadata": {},
   "outputs": [],
   "source": [
    "def get_action_pairs(l):\n",
    "    pairs = []\n",
    "    if len(l) > 1:\n",
    "        pairs = list(zip(l[:-1], l[1:]))\n",
    "    return pairs\n",
    "\n",
    "all_pairs = []\n",
    "for s in train_verbs:\n",
    "    all_pairs += get_action_pairs(s)\n",
    "    "
   ]
  },
  {
   "cell_type": "code",
   "execution_count": 22,
   "metadata": {},
   "outputs": [
    {
     "output_type": "error",
     "ename": "TypeError",
     "evalue": "'list' object is not callable",
     "traceback": [
      "\u001b[0;31m---------------------------------------------------------------------------\u001b[0m",
      "\u001b[0;31mTypeError\u001b[0m                                 Traceback (most recent call last)",
      "\u001b[0;32m<ipython-input-22-65112610ee6e>\u001b[0m in \u001b[0;36m<module>\u001b[0;34m\u001b[0m\n\u001b[0;32m----> 1\u001b[0;31m \u001b[0mall_keys\u001b[0m \u001b[0;34m=\u001b[0m \u001b[0mset\u001b[0m\u001b[0;34m(\u001b[0m\u001b[0mlist\u001b[0m\u001b[0;34m(\u001b[0m\u001b[0;34m[\u001b[0m\u001b[0mpair\u001b[0m\u001b[0;34m[\u001b[0m\u001b[0;36m0\u001b[0m\u001b[0;34m]\u001b[0m \u001b[0;32mfor\u001b[0m \u001b[0mpair\u001b[0m \u001b[0;32min\u001b[0m \u001b[0mall_pairs\u001b[0m\u001b[0;34m]\u001b[0m\u001b[0;34m)\u001b[0m\u001b[0;34m)\u001b[0m\u001b[0;34m\u001b[0m\u001b[0;34m\u001b[0m\u001b[0m\n\u001b[0m",
      "\u001b[0;31mTypeError\u001b[0m: 'list' object is not callable"
     ]
    }
   ],
   "source": [
    "all_keys = set(list([pair[0] for pair in all_pairs]))"
   ]
  },
  {
   "cell_type": "code",
   "execution_count": 10,
   "metadata": {},
   "outputs": [],
   "source": [
    "import json\n",
    "\n",
    "with open('data_analysis.json') as outfile:\n",
    "   train_verbs = json.loads(outfile.read())"
   ]
  },
  {
   "cell_type": "code",
   "execution_count": 21,
   "metadata": {},
   "outputs": [
    {
     "output_type": "error",
     "ename": "TypeError",
     "evalue": "'list' object is not callable",
     "traceback": [
      "\u001b[0;31m---------------------------------------------------------------------------\u001b[0m",
      "\u001b[0;31mTypeError\u001b[0m                                 Traceback (most recent call last)",
      "\u001b[0;32m<ipython-input-21-3d0ffbd40fce>\u001b[0m in \u001b[0;36m<module>\u001b[0;34m\u001b[0m\n\u001b[0;32m----> 1\u001b[0;31m \u001b[0mconf_matrix\u001b[0m \u001b[0;34m=\u001b[0m \u001b[0mget_pair_frequency\u001b[0m\u001b[0;34m(\u001b[0m\u001b[0mall_pairs\u001b[0m\u001b[0;34m,\u001b[0m \u001b[0mnormalize\u001b[0m \u001b[0;34m=\u001b[0m \u001b[0;32mFalse\u001b[0m\u001b[0;34m)\u001b[0m\u001b[0;34m\u001b[0m\u001b[0;34m\u001b[0m\u001b[0m\n\u001b[0m",
      "\u001b[0;32m<ipython-input-20-252e6ffd85d1>\u001b[0m in \u001b[0;36mget_pair_frequency\u001b[0;34m(pair_list, normalize)\u001b[0m\n\u001b[1;32m     15\u001b[0m     '''\n\u001b[1;32m     16\u001b[0m \u001b[0;34m\u001b[0m\u001b[0m\n\u001b[0;32m---> 17\u001b[0;31m     \u001b[0mall_keys\u001b[0m \u001b[0;34m=\u001b[0m \u001b[0mlist\u001b[0m\u001b[0;34m(\u001b[0m\u001b[0mset\u001b[0m\u001b[0;34m(\u001b[0m\u001b[0mlist\u001b[0m\u001b[0;34m(\u001b[0m\u001b[0;34m[\u001b[0m\u001b[0mpair\u001b[0m\u001b[0;34m[\u001b[0m\u001b[0;36m0\u001b[0m\u001b[0;34m]\u001b[0m \u001b[0;32mfor\u001b[0m \u001b[0mpair\u001b[0m \u001b[0;32min\u001b[0m \u001b[0mpair_list\u001b[0m\u001b[0;34m]\u001b[0m\u001b[0;34m)\u001b[0m\u001b[0;34m)\u001b[0m\u001b[0;34m)\u001b[0m\u001b[0;34m\u001b[0m\u001b[0;34m\u001b[0m\u001b[0m\n\u001b[0m\u001b[1;32m     18\u001b[0m     \u001b[0mall_values\u001b[0m \u001b[0;34m=\u001b[0m \u001b[0mlist\u001b[0m\u001b[0;34m(\u001b[0m\u001b[0mset\u001b[0m\u001b[0;34m(\u001b[0m\u001b[0mlist\u001b[0m\u001b[0;34m(\u001b[0m\u001b[0;34m[\u001b[0m\u001b[0mpair\u001b[0m\u001b[0;34m[\u001b[0m\u001b[0;36m1\u001b[0m\u001b[0;34m]\u001b[0m \u001b[0;32mfor\u001b[0m \u001b[0mpair\u001b[0m \u001b[0;32min\u001b[0m \u001b[0mpair_list\u001b[0m\u001b[0;34m]\u001b[0m\u001b[0;34m)\u001b[0m\u001b[0;34m)\u001b[0m\u001b[0;34m)\u001b[0m\u001b[0;34m\u001b[0m\u001b[0;34m\u001b[0m\u001b[0m\n\u001b[1;32m     19\u001b[0m     \u001b[0mall_keys\u001b[0m\u001b[0;34m.\u001b[0m\u001b[0msort\u001b[0m\u001b[0;34m(\u001b[0m\u001b[0;34m)\u001b[0m\u001b[0;34m\u001b[0m\u001b[0;34m\u001b[0m\u001b[0m\n",
      "\u001b[0;31mTypeError\u001b[0m: 'list' object is not callable"
     ]
    }
   ],
   "source": [
    "conf_matrix = get_pair_frequency(all_pairs, normalize = False)"
   ]
  },
  {
   "cell_type": "code",
   "execution_count": 134,
   "metadata": {},
   "outputs": [
    {
     "output_type": "error",
     "ename": "IndexError",
     "evalue": "list index out of range",
     "traceback": [
      "\u001b[0;31m---------------------------------------------------------------------------\u001b[0m",
      "\u001b[0;31mIndexError\u001b[0m                                Traceback (most recent call last)",
      "\u001b[0;32m<ipython-input-134-4e9f6a399612>\u001b[0m in \u001b[0;36m<module>\u001b[0;34m\u001b[0m\n\u001b[0;32m----> 1\u001b[0;31m \u001b[0mconf_matrix\u001b[0m \u001b[0;34m=\u001b[0m \u001b[0mget_pair_frequency\u001b[0m\u001b[0;34m(\u001b[0m\u001b[0mall_pairs\u001b[0m\u001b[0;34m,\u001b[0m \u001b[0mnormalize\u001b[0m \u001b[0;34m=\u001b[0m \u001b[0;32mFalse\u001b[0m\u001b[0;34m)\u001b[0m\u001b[0;34m\u001b[0m\u001b[0;34m\u001b[0m\u001b[0m\n\u001b[0m\u001b[1;32m      2\u001b[0m \u001b[0;32mimport\u001b[0m \u001b[0mseaborn\u001b[0m \u001b[0;32mas\u001b[0m \u001b[0msn\u001b[0m\u001b[0;34m\u001b[0m\u001b[0;34m\u001b[0m\u001b[0m\n\u001b[1;32m      3\u001b[0m setup_dp = pd.DataFrame(conf_matrix[0].astype(int), index = conf_matrix[1],\n\u001b[1;32m      4\u001b[0m                   columns = conf_matrix[2])\n\u001b[1;32m      5\u001b[0m \u001b[0mplt\u001b[0m\u001b[0;34m.\u001b[0m\u001b[0mfigure\u001b[0m\u001b[0;34m(\u001b[0m\u001b[0mfigsize\u001b[0m \u001b[0;34m=\u001b[0m \u001b[0;34m(\u001b[0m\u001b[0;36m10\u001b[0m\u001b[0;34m,\u001b[0m\u001b[0;36m8\u001b[0m\u001b[0;34m)\u001b[0m\u001b[0;34m)\u001b[0m\u001b[0;34m\u001b[0m\u001b[0;34m\u001b[0m\u001b[0m\n",
      "\u001b[0;32m<ipython-input-6-b03106380784>\u001b[0m in \u001b[0;36mget_pair_frequency\u001b[0;34m(pair_list, normalize)\u001b[0m\n\u001b[1;32m     15\u001b[0m     '''\n\u001b[1;32m     16\u001b[0m \u001b[0;34m\u001b[0m\u001b[0m\n\u001b[0;32m---> 17\u001b[0;31m     \u001b[0mall_keys\u001b[0m \u001b[0;34m=\u001b[0m \u001b[0mlist\u001b[0m\u001b[0;34m(\u001b[0m\u001b[0mset\u001b[0m\u001b[0;34m(\u001b[0m\u001b[0;34m[\u001b[0m\u001b[0mpair\u001b[0m\u001b[0;34m[\u001b[0m\u001b[0;36m0\u001b[0m\u001b[0;34m]\u001b[0m \u001b[0;32mfor\u001b[0m \u001b[0mpair\u001b[0m \u001b[0;32min\u001b[0m \u001b[0mpair_list\u001b[0m\u001b[0;34m]\u001b[0m\u001b[0;34m)\u001b[0m\u001b[0;34m)\u001b[0m\u001b[0;34m\u001b[0m\u001b[0;34m\u001b[0m\u001b[0m\n\u001b[0m\u001b[1;32m     18\u001b[0m     \u001b[0mall_values\u001b[0m \u001b[0;34m=\u001b[0m \u001b[0mlist\u001b[0m\u001b[0;34m(\u001b[0m\u001b[0mset\u001b[0m\u001b[0;34m(\u001b[0m\u001b[0;34m[\u001b[0m\u001b[0mpair\u001b[0m\u001b[0;34m[\u001b[0m\u001b[0;36m1\u001b[0m\u001b[0;34m]\u001b[0m \u001b[0;32mfor\u001b[0m \u001b[0mpair\u001b[0m \u001b[0;32min\u001b[0m \u001b[0mpair_list\u001b[0m\u001b[0;34m]\u001b[0m\u001b[0;34m)\u001b[0m\u001b[0;34m)\u001b[0m\u001b[0;34m\u001b[0m\u001b[0;34m\u001b[0m\u001b[0m\n\u001b[1;32m     19\u001b[0m     \u001b[0mall_keys\u001b[0m\u001b[0;34m.\u001b[0m\u001b[0msort\u001b[0m\u001b[0;34m(\u001b[0m\u001b[0;34m)\u001b[0m\u001b[0;34m\u001b[0m\u001b[0;34m\u001b[0m\u001b[0m\n",
      "\u001b[0;32m<ipython-input-6-b03106380784>\u001b[0m in \u001b[0;36m<listcomp>\u001b[0;34m(.0)\u001b[0m\n\u001b[1;32m     15\u001b[0m     '''\n\u001b[1;32m     16\u001b[0m \u001b[0;34m\u001b[0m\u001b[0m\n\u001b[0;32m---> 17\u001b[0;31m     \u001b[0mall_keys\u001b[0m \u001b[0;34m=\u001b[0m \u001b[0mlist\u001b[0m\u001b[0;34m(\u001b[0m\u001b[0mset\u001b[0m\u001b[0;34m(\u001b[0m\u001b[0;34m[\u001b[0m\u001b[0mpair\u001b[0m\u001b[0;34m[\u001b[0m\u001b[0;36m0\u001b[0m\u001b[0;34m]\u001b[0m \u001b[0;32mfor\u001b[0m \u001b[0mpair\u001b[0m \u001b[0;32min\u001b[0m \u001b[0mpair_list\u001b[0m\u001b[0;34m]\u001b[0m\u001b[0;34m)\u001b[0m\u001b[0;34m)\u001b[0m\u001b[0;34m\u001b[0m\u001b[0;34m\u001b[0m\u001b[0m\n\u001b[0m\u001b[1;32m     18\u001b[0m     \u001b[0mall_values\u001b[0m \u001b[0;34m=\u001b[0m \u001b[0mlist\u001b[0m\u001b[0;34m(\u001b[0m\u001b[0mset\u001b[0m\u001b[0;34m(\u001b[0m\u001b[0;34m[\u001b[0m\u001b[0mpair\u001b[0m\u001b[0;34m[\u001b[0m\u001b[0;36m1\u001b[0m\u001b[0;34m]\u001b[0m \u001b[0;32mfor\u001b[0m \u001b[0mpair\u001b[0m \u001b[0;32min\u001b[0m \u001b[0mpair_list\u001b[0m\u001b[0;34m]\u001b[0m\u001b[0;34m)\u001b[0m\u001b[0;34m)\u001b[0m\u001b[0;34m\u001b[0m\u001b[0;34m\u001b[0m\u001b[0m\n\u001b[1;32m     19\u001b[0m     \u001b[0mall_keys\u001b[0m\u001b[0;34m.\u001b[0m\u001b[0msort\u001b[0m\u001b[0;34m(\u001b[0m\u001b[0;34m)\u001b[0m\u001b[0;34m\u001b[0m\u001b[0;34m\u001b[0m\u001b[0m\n",
      "\u001b[0;31mIndexError\u001b[0m: list index out of range"
     ]
    }
   ],
   "source": [
    "import seaborn as sn\n",
    "setup_dp = pd.DataFrame(conf_matrix[0].astype(int), index = conf_matrix[1],\n",
    "                  columns = conf_matrix[2])\n",
    "plt.figure(figsize = (10,8))\n",
    "sn.heatmap(setup_dp,annot=True,fmt=\"d\", center =50000, cmap = \"Greens\") "
   ]
  },
  {
   "cell_type": "code",
   "execution_count": 50,
   "metadata": {},
   "outputs": [
    {
     "output_type": "stream",
     "name": "stdout",
     "text": [
      "\\begin{tabular}{lrrrr}\n\\toprule\n     split &  mean &  std &  min &  max \\\\\n\\midrule\n     train & 13.13 & 6.81 &    1 &   68 \\\\\n  val seen & 12.98 & 7.31 &    2 &   53 \\\\\nval unseen & 12.79 & 6.82 &    2 &   44 \\\\\n\\bottomrule\n\\end{tabular}\n\n"
     ]
    }
   ],
   "source": [
    "# Sentences.\n",
    "train_stats = get_statistics([len(get_instructions_verbs(' '.join(elt))) for elt in train_instructions['detail_unpack']])\n",
    "val_seen_stats = get_statistics([len(get_instructions_verbs(' '.join(elt))) for elt in val_seen_instructions['detail_unpack']])\n",
    "val_unseen_stats = get_statistics([len(get_instructions_verbs(' '.join(elt))) for elt in val_unseen_instructins['detail_unpack']])\n",
    "print(pd.DataFrame([{'split':'train',**train_stats}, {'split':'val seen',**val_seen_stats}, {'split':'val unseen',**val_unseen_stats}]).to_latex(index=False, float_format=\"{:0.2f}\".format))"
   ]
  },
  {
   "cell_type": "code",
   "execution_count": 26,
   "metadata": {},
   "outputs": [
    {
     "output_type": "stream",
     "name": "stdout",
     "text": [
      "\\begin{tabular}{lrrrr}\n\\toprule\n{} &      mean &       std &  min &  max \\\\\n\\midrule\n0 &  3.198205 &  0.680997 &    3 &    6 \\\\\n\\bottomrule\n\\end{tabular}\n\n"
     ]
    }
   ],
   "source": [
    "train_stats = get_statistics([len(elt) for elt in train_instructions['detail']])\n",
    "val_seen_stats = get_statistics([len(elt) for elt in val_seen_instructions['detail']])\n",
    "val_unseen_stats = get_statistics([len(elt) for elt in val_unseen_instructins['detail']])\n",
    "print(pd.DataFrame([{'split':'train',**train_stats}, {'split':'val_seen',**val_seen_stats}, {'split':'val_unseen',**val_unseen_stats}]).to_latex(index=False, float_format=\"{:0.2f}\".format))"
   ]
  },
  {
   "cell_type": "code",
   "execution_count": 47,
   "metadata": {},
   "outputs": [
    {
     "output_type": "stream",
     "name": "stdout",
     "text": [
      "\\begin{tabular}{lrrrr}\n\\toprule\n     split &  mean &  std &  min &  max \\\\\n\\midrule\n     train &  6.72 & 2.49 &    3 &   19 \\\\\n  val\\_seen &  6.79 & 2.73 &    4 &   16 \\\\\nval\\_unseen &  6.26 & 2.33 &    4 &   14 \\\\\n\\bottomrule\n\\end{tabular}\n\n"
     ]
    }
   ],
   "source": [
    "train_stats = get_statistics([len(elt) for elt in train_instructions['detail_unpack']])\n",
    "val_seen_stats = get_statistics([len(elt) for elt in val_seen_instructions['detail_unpack']])\n",
    "val_unseen_stats = get_statistics([len(elt) for elt in val_unseen_instructins['detail_unpack']])\n",
    "print(pd.DataFrame([{'split':'train',**train_stats}, {'split':'val_seen',**val_seen_stats}, {'split':'val_unseen',**val_unseen_stats}]).to_latex(index=False, float_format=\"{:0.2f}\".format))"
   ]
  },
  {
   "source": [
    "high_descs, task_desc = get_instructions(val_seen_traj_list[0])\n"
   ],
   "cell_type": "code",
   "metadata": {},
   "execution_count": null,
   "outputs": []
  },
  {
   "cell_type": "code",
   "execution_count": 11,
   "metadata": {},
   "outputs": [
    {
     "output_type": "execute_result",
     "data": {
      "text/plain": [
       "(['go to the table with the safe ',\n",
       "  'pick up the clock',\n",
       "  'take the clock to the desk',\n",
       "  'turn on the lamp'],\n",
       " 'look at the clock under the lamp')"
      ]
     },
     "metadata": {},
     "execution_count": 11
    }
   ],
   "source": [
    "high_descs[0], task_desc[0]"
   ]
  },
  {
   "cell_type": "code",
   "execution_count": 12,
   "metadata": {},
   "outputs": [
    {
     "output_type": "execute_result",
     "data": {
      "text/plain": [
       "['look']"
      ]
     },
     "metadata": {},
     "execution_count": 12
    }
   ],
   "source": [
    "get_instructions_verbs(task_desc[0])"
   ]
  },
  {
   "cell_type": "code",
   "execution_count": 36,
   "metadata": {},
   "outputs": [
    {
     "output_type": "execute_result",
     "data": {
      "text/plain": [
       "['Pick up the alarm clock and turn on the lamp.',\n",
       " 'Carry an alarm clock while turning on a lamp',\n",
       " 'examine an alarm clock by the light of the lamp on the dresser']"
      ]
     },
     "metadata": {},
     "execution_count": 36
    }
   ],
   "source": [
    "train_instructions['task'][0]"
   ]
  },
  {
   "cell_type": "code",
   "execution_count": 37,
   "metadata": {},
   "outputs": [
    {
     "output_type": "execute_result",
     "data": {
      "text/plain": [
       "[['Turn left and face the dresser.',\n",
       "  'Pick up the alarm clock from the dresser.',\n",
       "  'Turn left, look and then face the lamp.',\n",
       "  'Turn the lamp on.'],\n",
       " ['Move to the white dresser to the left of the bed',\n",
       "  'Pick up the alarm clock on top of the dresser',\n",
       "  'Carry the alarm clock to the left side of the dresser',\n",
       "  'Turn on the lamp on top of the dresser'],\n",
       " ['turn to the left to face the dresser',\n",
       "  'pick up the alarm clock off of the dresser',\n",
       "  'move to the left to face the left side of the dresser where the lamp is sitting',\n",
       "  'turn the lamp on']]"
      ]
     },
     "metadata": {},
     "execution_count": 37
    }
   ],
   "source": [
    "train_instructions['detail'][0]"
   ]
  },
  {
   "cell_type": "code",
   "execution_count": null,
   "metadata": {},
   "outputs": [],
   "source": []
  }
 ],
 "metadata": {
  "kernelspec": {
   "name": "python3",
   "display_name": "Python 3.8.8 64-bit ('alfred': conda)",
   "metadata": {
    "interpreter": {
     "hash": "d8cde165cb1baeb8dbfce9b22c7028b8837eb6c6206f561efb3e94834f960501"
    }
   }
  },
  "language_info": {
   "codemirror_mode": {
    "name": "ipython",
    "version": 3
   },
   "file_extension": ".py",
   "mimetype": "text/x-python",
   "name": "python",
   "nbconvert_exporter": "python",
   "pygments_lexer": "ipython3",
   "version": "3.8.8-final"
  }
 },
 "nbformat": 4,
 "nbformat_minor": 4
}